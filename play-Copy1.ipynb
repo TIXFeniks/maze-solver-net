{
 "cells": [
  {
   "cell_type": "code",
   "execution_count": 1,
   "metadata": {
    "collapsed": false
   },
   "outputs": [],
   "source": [
    "%load_ext autoreload\n",
    "%autoreload 2"
   ]
  },
  {
   "cell_type": "code",
   "execution_count": 2,
   "metadata": {
    "collapsed": false
   },
   "outputs": [],
   "source": [
    "%matplotlib inline\n",
    "import matplotlib.pyplot as plt\n",
    "\n",
    "import gym\n",
    "import maze\n",
    "\n",
    "import numpy as np\n",
    "from tqdm import tnrange\n",
    "\n",
    "from IPython.display import clear_output\n",
    "from time import sleep"
   ]
  },
  {
   "cell_type": "code",
   "execution_count": 3,
   "metadata": {
    "collapsed": true
   },
   "outputs": [],
   "source": [
    "def make_env(show_map = False):\n",
    "    return maze.MazeEnv(map_name = 'random', show_map = show_map)#gym.make(\"Maze-v0\")"
   ]
  },
  {
   "cell_type": "code",
   "execution_count": 4,
   "metadata": {
    "collapsed": false
   },
   "outputs": [],
   "source": [
    "env = make_env()"
   ]
  },
  {
   "cell_type": "code",
   "execution_count": 5,
   "metadata": {
    "collapsed": false
   },
   "outputs": [],
   "source": [
    "class BasicPolicy(object):\n",
    "    def __init__(self,n_states, n_actions):\n",
    "        self.n_states = n_states\n",
    "        self.n_actions = n_actions\n",
    "    \n",
    "    @staticmethod\n",
    "    def mutate(policy, p = 0.5):\n",
    "        raise NotImplementedError(\"No implementation in the base class\")\n",
    "    \n",
    "    @staticmethod\n",
    "    def combine(policy1, policy2, p1 = 0.5):\n",
    "        raise NotImplementedError(\"Can't combine base classes\")\n",
    "        \n",
    "    def __getitem__(self, state):\n",
    "        raise NotImplementedError(\"Can't get item of the base policy\")\n",
    "        \n",
    "class DeterministicPolicy(BasicPolicy):\n",
    "    def __init__(self, n_states= env.observation_space.n , n_actions= env.action_space.n, policy = None):\n",
    "        super(DeterministicPolicy, self).__init__(n_states, n_actions)\n",
    "        if type(policy) == np.ndarray:\n",
    "            self._policy = policy\n",
    "        elif policy:\n",
    "            self._policy = np.array(policy)\n",
    "        else:\n",
    "            self._policy = np.random.randint(0, n_actions, n_states)\n",
    "        \n",
    "    @staticmethod\n",
    "    def mutate(policy, p = 0.5):\n",
    "        rand = DeterministicPolicy(policy.n_states, policy.n_actions)\n",
    "        return DeterministicPolicy.combine(policy, rand, p)\n",
    "    \n",
    "    @staticmethod\n",
    "    def combine(policy1, policy2, p1 = 0.5):\n",
    "        assert policy1.n_states == policy2.n_states\n",
    "        assert policy1.n_actions == policy2.n_actions\n",
    "        \n",
    "        n_states = policy1.n_states\n",
    "        n_actions = policy1.n_actions\n",
    "        \n",
    "        choice = np.random.choice([0,1], n_states, p= [p1, 1-p1])\n",
    "        \n",
    "        policy = np.hstack((policy2._policy, policy1._policy))[np.arange(n_states) + choice * n_states]\n",
    "        \n",
    "        return DeterministicPolicy(n_states, n_actions, policy)\n",
    "        \n",
    "    def __repr__(self):\n",
    "        class_name = str(type(self)).split('.')[-1][:-2]\n",
    "        \n",
    "        return class_name + self._policy.__repr__()[5:]\n",
    "    \n",
    "    def __getitem__(self, state):\n",
    "        return self._policy[state]\n",
    "    \n",
    "class GreedyPolicy(DeterministicPolicy):\n",
    "    epsilon = 0.2 #static, so we can change it for everyone\n",
    "    def __init__(self, n_states= env.observation_space.n , n_actions= env.action_space.n, policy = None):\n",
    "        super(GreedyPolicy, self).__init__(n_states, n_actions, policy)\n",
    "       \n",
    "    @staticmethod\n",
    "    def mutate(policy, p = 0.5):\n",
    "        rand = GreedyPolicy(policy.n_states, policy.n_actions)\n",
    "        return GreedyPolicy.combine(policy, rand, p)\n",
    "    \n",
    "    @staticmethod\n",
    "    def combine(policy1, policy2, p1 = 0.5):\n",
    "        p = super(GreedyPolicy, policy1).combine(policy1, policy2, p1)\n",
    "        return GreedyPolicy(p.n_states, p.n_actions, p._policy)\n",
    "    \n",
    "    def __getitem__(self, state):\n",
    "        if (np.random.choice([False,True],p= [GreedyPolicy.epsilon, 1 - GreedyPolicy.epsilon])):\n",
    "            return self._policy[state]\n",
    "        return np.random.choice(np.arange(self.n_actions))"
   ]
  },
  {
   "cell_type": "code",
   "execution_count": 6,
   "metadata": {
    "collapsed": true
   },
   "outputs": [],
   "source": [
    "def visualize( policy,env = env, n_steps = 100, step_hunger = 1):\n",
    "    s = env.reset()\n",
    "    total_reward = 0\n",
    "    for step in xrange(n_steps):\n",
    "        try:\n",
    "            s, reward, end, _ = env.step(policy[s])\n",
    "            total_reward += reward - step_hunger\n",
    "\n",
    "            clear_output(True)\n",
    "            env.render()\n",
    "            sleep(0.25)\n",
    "\n",
    "            if end:\n",
    "                break\n",
    "        except KeyboardInterrupt:\n",
    "            break\n",
    "    return total_reward"
   ]
  },
  {
   "cell_type": "code",
   "execution_count": 7,
   "metadata": {
    "collapsed": false
   },
   "outputs": [],
   "source": [
    "def score(policy, env= env, n_steps = 100, step_hunger = 1):\n",
    "    s = env.reset()\n",
    "    total_reward = 0\n",
    "    for step in xrange(n_steps):\n",
    "        s, reward, end, _ = env.step(policy[s])\n",
    "        total_reward += reward - step_hunger\n",
    "        if end:\n",
    "            break\n",
    "    return total_reward\n",
    "\n",
    "def sample_score(policy, env= env, n_times = 80, n_steps = 50):\n",
    "    return np.mean([score(policy,env, n_steps) for i in xrange(n_times)])"
   ]
  },
  {
   "cell_type": "markdown",
   "metadata": {},
   "source": [
    "## genetic solver"
   ]
  },
  {
   "cell_type": "code",
   "execution_count": 8,
   "metadata": {
    "collapsed": true
   },
   "outputs": [],
   "source": [
    "import multiprocessing\n",
    "from contextlib import contextmanager\n",
    "from functools import partial\n",
    "\n",
    "@contextmanager\n",
    "def poolcontext(*args, **kwargs):\n",
    "    pool = multiprocessing.Pool(*args, **kwargs)\n",
    "    yield pool\n",
    "    pool.terminate()"
   ]
  },
  {
   "cell_type": "code",
   "execution_count": null,
   "metadata": {
    "collapsed": true
   },
   "outputs": [],
   "source": [
    "POOL_SIZE = 50\n",
    "\n",
    "pool = [GreedyPolicy() for i in xrange(POOL_SIZE)]"
   ]
  },
  {
   "cell_type": "code",
   "execution_count": null,
   "metadata": {
    "collapsed": true
   },
   "outputs": [],
   "source": [
    "class Scorer(object):\n",
    "    def __init__(self, env= None, n_times = 80, n_steps = 50):\n",
    "        self.env = env\n",
    "        self.n_steps = n_steps\n",
    "    def __call__(self, policy):\n",
    "        if self.env is None:\n",
    "            self.env = make_env()\n",
    "        return sample_score(policy, self.env, self.n_steps)\n",
    "    \n",
    "\n",
    "def fast_score_pool(pool, env= env, n_times = 80, n_steps = 50):\n",
    "    results = []\n",
    "    with poolcontext(processes=3) as _pool:\n",
    "        results = _pool.map(Scorer(), pool)\n",
    "    return results"
   ]
  },
  {
   "cell_type": "code",
   "execution_count": null,
   "metadata": {
    "collapsed": true
   },
   "outputs": [],
   "source": [
    "\n",
    "N_MUTANTS = 25\n",
    "N_CHILDREN = 25\n",
    "MUTATION_PROBA = 0.1\n",
    "\n",
    "top_scores = []\n",
    "mean_scores = []\n"
   ]
  },
  {
   "cell_type": "code",
   "execution_count": null,
   "metadata": {
    "collapsed": false
   },
   "outputs": [],
   "source": [
    "N_EPOCHS = 30\n",
    "for epoch in tnrange(N_EPOCHS):\n",
    "    scores = fast_score_pool(pool)\n",
    "    survivers = np.argsort(scores)[-POOL_SIZE:]\n",
    "    pool = [pool[i] for i in survivers]\n",
    "    scores = [scores[i] for i in survivers]\n",
    "    \n",
    "    top_scores.append(scores[-1])\n",
    "    mean_scores.append(np.mean(scores))\n",
    "    \n",
    "    combinations = np.random.randint(len(pool),size=(N_CHILDREN,2))\n",
    "    \n",
    "    softmax_2_0 = lambda s1,s2 : np.exp(s1) / (np.exp(s1) + np.exp(s2)) \n",
    "    pool += [GreedyPolicy.combine(pool[p1],pool[p2], softmax_2_0(scores[p1]/50.,scores[p2]/50.))\n",
    "             for p1, p2 in combinations]\n",
    "    \n",
    "    pool += [GreedyPolicy.mutate(pool[np.random.randint(len(pool))], MUTATION_PROBA) \n",
    "             for i in xrange(N_MUTANTS)]\n",
    "    "
   ]
  },
  {
   "cell_type": "code",
   "execution_count": null,
   "metadata": {
    "collapsed": true
   },
   "outputs": [],
   "source": [
    "GreedyPolicy.epsilon = 0.0"
   ]
  },
  {
   "cell_type": "code",
   "execution_count": null,
   "metadata": {
    "collapsed": false
   },
   "outputs": [],
   "source": [
    "sample_score(pool[-1])"
   ]
  },
  {
   "cell_type": "code",
   "execution_count": null,
   "metadata": {
    "collapsed": false,
    "scrolled": false
   },
   "outputs": [],
   "source": [
    "visualize(pool[-1])"
   ]
  },
  {
   "cell_type": "code",
   "execution_count": null,
   "metadata": {
    "collapsed": false
   },
   "outputs": [],
   "source": [
    "plt.plot(top_scores)\n",
    "plt.plot(mean_scores)\n",
    "plt.show()\n",
    "plt.hist(scores);"
   ]
  },
  {
   "cell_type": "markdown",
   "metadata": {},
   "source": [
    "## Q-learning solver"
   ]
  },
  {
   "cell_type": "code",
   "execution_count": 9,
   "metadata": {
    "collapsed": true
   },
   "outputs": [],
   "source": [
    "def softmax(x):\n",
    "    x = np.exp(x)\n",
    "    return x / x.sum(axis = -1).reshape(x.shape[:-1] + (1,))"
   ]
  },
  {
   "cell_type": "code",
   "execution_count": 10,
   "metadata": {
    "collapsed": false
   },
   "outputs": [],
   "source": [
    "def vetrov_gumbel_softmax(inp, vetrovness = 1.0,temperature = 1.0 , epsilon = 1e-10, hard=False): \n",
    "    \"\"\"\n",
    "        Gumbel softmax with vetrovness instead of the temperature. \n",
    "            vetrovness = 0 => simple softmax\n",
    "            vetrovness = inf => uniform\n",
    "        Hard will return the sampled indicies\n",
    "    \"\"\"\n",
    "    uniform_sample = np.random.uniform(size = inp.shape, low=0, high=1).astype('float32')\n",
    "    gumbel_dist = -np.log(-np.log(uniform_sample + epsilon) + epsilon)\n",
    "    softm = softmax((inp + gumbel_dist * vetrovness) / temperature)\n",
    "    if hard:\n",
    "        return np.argmax(softm,axis=-1)\n",
    "    return softm"
   ]
  },
  {
   "cell_type": "code",
   "execution_count": 11,
   "metadata": {
    "collapsed": false
   },
   "outputs": [
    {
     "data": {
      "image/png": "[encoded data removed]",
      "text/plain": [
       "<matplotlib.figure.Figure at 0x7f473df37810>"
      ]
     },
     "metadata": {},
     "output_type": "display_data"
    }
   ],
   "source": [
    "arr = np.array([[0,1,2,3,4,5]])\n",
    "\n",
    "plt.hist(vetrov_gumbel_softmax(np.concatenate([arr]*200),vetrovness=1.1, hard = True));"
   ]
  },
  {
   "cell_type": "code",
   "execution_count": 12,
   "metadata": {
    "collapsed": true
   },
   "outputs": [],
   "source": [
    "def normalize(x, axis = None):\n",
    "    x = np.array(x).astype('float32') # just to be sure\n",
    "    if axis is None:\n",
    "        return x / np.max(np.abs(x))\n",
    "    if axis == -1 or axis == x.ndim - 1:\n",
    "        return x / np.max(np.abs(x), axis= -1).reshape(x.shape[:-1] + (1,))\n",
    "    raise NotImplementedError(\"Can't normalize non-ending axis\")"
   ]
  },
  {
   "cell_type": "code",
   "execution_count": 13,
   "metadata": {
    "collapsed": false
   },
   "outputs": [],
   "source": [
    "class QPolicy(BasicPolicy):\n",
    "    #TODO: mb move these into the instance?\n",
    "    epsilon = 0.2# randomness of the actions\n",
    "    sigma = 0.7# importance of the futue rewards\n",
    "    LF = 0.9 # learning factor\n",
    "    sampling = \"e-greedy\"\n",
    "    \n",
    "    def __init__(self,n_states= env.observation_space.n , n_actions= env.action_space.n):\n",
    "        self.n_states = n_states\n",
    "        self.n_actions = n_actions\n",
    "        self._q = np.zeros((n_states, n_actions))\n",
    "    \n",
    "    def set_q(self, q):\n",
    "        self._q = q\n",
    "        \n",
    "    def get_q(self, env):\n",
    "        return self._q\n",
    "    \n",
    "    def q(self,state, action = None):\n",
    "        if action is not None:\n",
    "            return self._q[state, action]\n",
    "        else:\n",
    "            return self._q[state]\n",
    "    \n",
    "    def fit(self, s, next_s,a, reward):\n",
    "        self._q[s,a] += self.LF * (reward + self.sigma * max([self._q[next_s, action]\n",
    "                                                            for action in xrange(self.n_actions)])\n",
    "                              - self._q[s,a])\n",
    "    \n",
    "    def __getitem__(self, state): # stochastic moves\n",
    "        if self.sampling == 'e-greedy':\n",
    "            if (np.random.choice([False,True],p= [QPolicy.epsilon, 1 - QPolicy.epsilon])):\n",
    "                return np.argmax(self.q(state))\n",
    "            return np.random.choice(np.arange(self.n_actions))\n",
    "        else:\n",
    "            q = self.q(state)\n",
    "            return vetrov_gumbel_softmax(q,vetrovness=self.epsilon , hard=True) "
   ]
  },
  {
   "cell_type": "code",
   "execution_count": 14,
   "metadata": {
    "collapsed": true
   },
   "outputs": [],
   "source": [
    "policy = QPolicy()"
   ]
  },
  {
   "cell_type": "code",
   "execution_count": 15,
   "metadata": {
    "collapsed": false
   },
   "outputs": [
    {
     "data": {
      "text/plain": [
       "0"
      ]
     },
     "execution_count": 15,
     "metadata": {},
     "output_type": "execute_result"
    }
   ],
   "source": [
    "policy[0]"
   ]
  },
  {
   "cell_type": "code",
   "execution_count": 16,
   "metadata": {
    "collapsed": true
   },
   "outputs": [],
   "source": [
    "step_hunger = 1\n",
    "n_steps = 100"
   ]
  },
  {
   "cell_type": "code",
   "execution_count": 17,
   "metadata": {
    "collapsed": false
   },
   "outputs": [],
   "source": [
    "QPolicy.epsilon = 0.1"
   ]
  },
  {
   "cell_type": "code",
   "execution_count": 18,
   "metadata": {
    "collapsed": true
   },
   "outputs": [],
   "source": [
    "def q_vis(policy, env):\n",
    "    q = policy.get_q(env)\n",
    "    plt.subplot(1,4,1)\n",
    "    plt.imshow(np.abs(q.reshape((21,21,4))[:,:,0]),interpolation='none')\n",
    "    plt.subplot(1,4,2)\n",
    "    plt.imshow(np.abs(q.reshape((21,21,4))[:,:,1]),interpolation='none')\n",
    "    plt.subplot(1,4,3)\n",
    "    plt.imshow(np.abs(q.reshape((21,21,4))[:,:,2]),interpolation='none')\n",
    "    plt.subplot(1,4,4)\n",
    "    plt.imshow(np.abs(q.reshape((21,21,4))[:,:,3]),interpolation='none')"
   ]
  },
  {
   "cell_type": "code",
   "execution_count": 18,
   "metadata": {
    "collapsed": false,
    "scrolled": true
   },
   "outputs": [
    {
     "ename": "TypeError",
     "evalue": "q_vis() takes exactly 2 arguments (1 given)",
     "output_type": "error",
     "traceback": [
      "\u001b[1;31m---------------------------------------------------------------------------\u001b[0m",
      "\u001b[1;31mTypeError\u001b[0m                                 Traceback (most recent call last)",
      "\u001b[1;32m<ipython-input-18-4dbde313a50e>\u001b[0m in \u001b[0;36m<module>\u001b[1;34m()\u001b[0m\n\u001b[1;32m----> 1\u001b[1;33m \u001b[0mq_vis\u001b[0m\u001b[1;33m(\u001b[0m\u001b[0mpolicy\u001b[0m\u001b[1;33m)\u001b[0m\u001b[1;33m\u001b[0m\u001b[0m\n\u001b[0m",
      "\u001b[1;31mTypeError\u001b[0m: q_vis() takes exactly 2 arguments (1 given)"
     ]
    }
   ],
   "source": [
    "q_vis(policy)"
   ]
  },
  {
   "cell_type": "code",
   "execution_count": 19,
   "metadata": {
    "collapsed": true
   },
   "outputs": [],
   "source": [
    "do_visual = False# TODO: refactor\n",
    "\n",
    "\n",
    "def fit_table_policy(env, do_split = False, N_GAMES = 1000, epsilon_start = 0.9, epsilon_end = 0.05):\n",
    "    exponent = np.exp(np.log(epsilon_end/epsilon_start) / N_GAMES)\n",
    "    def anneal_epsilon(i):\n",
    "        return epsilon_start * (exponent**i)\n",
    "    scores = []\n",
    "    policy = QPolicy()\n",
    "    for i in tnrange(N_GAMES):\n",
    "        QPolicy.epsilon = anneal_epsilon(i)\n",
    "        s = env.reset()\n",
    "        total_reward = 0\n",
    "        if do_split:\n",
    "            s = s[0]\n",
    "        for step in xrange(n_steps):\n",
    "            \n",
    "            \n",
    "            a = policy[s]\n",
    "            _s, reward, end, _ = env.step(a)\n",
    "            if do_split:\n",
    "                _s = _s[0]\n",
    "            reward -= step_hunger\n",
    "            \n",
    "            policy.fit(s, _s, a, reward)\n",
    "\n",
    "            s = _s\n",
    "            if do_visual:\n",
    "                clear_output(True)\n",
    "                env.render()\n",
    "                plt.show()\n",
    "                q_vis(policy)\n",
    "                sleep(0.01)\n",
    "            total_reward += reward\n",
    "\n",
    "            if end:\n",
    "                break\n",
    "        scores.append(total_reward)\n",
    "    return scores, policy"
   ]
  },
  {
   "cell_type": "code",
   "execution_count": 157,
   "metadata": {
    "collapsed": false
   },
   "outputs": [
    {
     "name": "stdout",
     "output_type": "stream",
     "text": [
      "\n"
     ]
    },
    {
     "data": {
      "image/png": "[encoded data removed]",
      "text/plain": [
       "<matplotlib.figure.Figure at 0x7f9c5cdc88d0>"
      ]
     },
     "metadata": {},
     "output_type": "display_data"
    }
   ],
   "source": [
    "\n",
    "plt.plot(fit_table_policy(map_env, True,500)[0]);"
   ]
  },
  {
   "cell_type": "code",
   "execution_count": 46,
   "metadata": {
    "collapsed": true
   },
   "outputs": [],
   "source": [
    "QPolicy.epsilon = 0.00"
   ]
  },
  {
   "cell_type": "code",
   "execution_count": 47,
   "metadata": {
    "collapsed": false
   },
   "outputs": [
    {
     "name": "stdout",
     "output_type": "stream",
     "text": [
      "111111111111111111111\n",
      "1\u001b[41m0\u001b[0m0020000000000002001\n",
      "101110101111111111101\n",
      "100010101000000000001\n",
      "101010101011101111101\n",
      "100010020000101000001\n",
      "111011101111101111101\n",
      "100000101000000000101\n",
      "101111101111111011101\n",
      "101000000000000010001\n",
      "101111111010111110101\n",
      "130000001000100000001\n",
      "101111101110111111101\n",
      "101000000010000010001\n",
      "101111111110111210101\n",
      "100000100000100010101\n",
      "101011111011111110101\n",
      "101000000000000000101\n",
      "101111111111111111101\n",
      "100000000000000000001\n",
      "111111111111111111111\n",
      "  (Left)\n"
     ]
    },
    {
     "data": {
      "text/plain": [
       "-41"
      ]
     },
     "execution_count": 47,
     "metadata": {},
     "output_type": "execute_result"
    }
   ],
   "source": [
    "visualize(policy)"
   ]
  },
  {
   "cell_type": "markdown",
   "metadata": {},
   "source": [
    "## DeepQLearning"
   ]
  },
  {
   "cell_type": "code",
   "execution_count": 21,
   "metadata": {
    "collapsed": false
   },
   "outputs": [],
   "source": [
    "map_env = make_env(True)"
   ]
  },
  {
   "cell_type": "code",
   "execution_count": 22,
   "metadata": {
    "collapsed": true
   },
   "outputs": [],
   "source": [
    "def map2input(s,_map, env = map_env):\n",
    "    result = np.zeros((3,) + _map.shape)\n",
    "    result[0] = (_map == '1').astype('float32')\n",
    "    \n",
    "    x,y = env.from_s(s)\n",
    "    result[1,x,y] = 1\n",
    "    result[2] = (_map == '3').astype('float32')\n",
    "    \n",
    "    return result"
   ]
  },
  {
   "cell_type": "code",
   "execution_count": 23,
   "metadata": {
    "collapsed": true
   },
   "outputs": [],
   "source": [
    "from ipywidgets import widgets\n",
    "from IPython.display import display"
   ]
  },
  {
   "cell_type": "code",
   "execution_count": 24,
   "metadata": {
    "collapsed": false
   },
   "outputs": [
    {
     "name": "stdout",
     "output_type": "stream",
     "text": [
      "env: KERAS_BACKEND=theano\n"
     ]
    }
   ],
   "source": [
    "import theano\n",
    "import theano.tensor as T\n",
    "\n",
    "import lasagne\n",
    "from lasagne.layers import *\n",
    "from lasagne.regularization import regularize_network_params, l2\n",
    "\n",
    "%env KERAS_BACKEND=theano\n",
    "from keras.utils import to_categorical"
   ]
  },
  {
   "cell_type": "code",
   "execution_count": 25,
   "metadata": {
    "collapsed": true
   },
   "outputs": [],
   "source": [
    "class ReplayStruct:\n",
    "    def __init__(self,s, a, next_s, reward, end):\n",
    "        self.s = s\n",
    "        self.a = a\n",
    "        self.next_s = next_s\n",
    "        self.reward = reward\n",
    "        self.end = end"
   ]
  },
  {
   "cell_type": "code",
   "execution_count": 26,
   "metadata": {
    "collapsed": false
   },
   "outputs": [],
   "source": [
    "class DeepQPolicy(QPolicy):\n",
    "    \n",
    "    N_FILTERS = 32\n",
    "    THINK_TIME = 100\n",
    "    sigma = 0.97\n",
    "    \n",
    "    def init_nnet(self, w, h):\n",
    "        class nnet:\n",
    "            THINK_TIME = DeepQPolicy.THINK_TIME\n",
    "            \n",
    "            target_q = T.fvector(\"target_q\")\n",
    "\n",
    "            field_inp = InputLayer((None, 3, w+1,h+1))\n",
    "            action_inp = InputLayer((None, self.n_actions))\n",
    "            \n",
    "            batch_size = field_inp.input_var.shape[0]\n",
    "            \n",
    "            think_timer = T.repeat(T.arange(THINK_TIME).astype('float32'),batch_size).reshape((-1,THINK_TIME,1))\n",
    "            think_inp = InputLayer((None,THINK_TIME,1), input_var = think_timer)\n",
    "            \n",
    "            \"\"\"\n",
    "            f = flatten(field_inp)\n",
    "            d0 = concat([f, action_inp])\n",
    "            d1 = DenseLayer(d0, self.N_FILTERS, nonlinearity=T.tanh)\n",
    "            \n",
    "            out = DenseLayer(d1, 1, nonlinearity=None)\n",
    "            \"\"\"\n",
    "            c1 = Conv2DLayer(field_inp, self.N_FILTERS, 3, pad=1, nonlinearity=T.nnet.relu)\n",
    "            c1 = MaxPool2DLayer(c1,2)\n",
    "            c2 = Conv2DLayer(c1, self.N_FILTERS * 3, 3, pad=1,nonlinearity=T.nnet.relu)\n",
    "            c2 = MaxPool2DLayer(c2,2)\n",
    "            f = flatten(c2)\n",
    "            d0 = concat([f, action_inp])\n",
    "            d1 = DenseLayer(d0, self.N_FILTERS, nonlinearity=T.tanh)\n",
    "            \n",
    "            lstm = LSTMLayer(think_inp, self.N_FILTERS, cell_init=d1, only_return_final=True)\n",
    "            \n",
    "            d2 = DenseLayer(lstm, self.N_FILTERS, nonlinearity=T.tanh)\n",
    "            out = d2 = DenseLayer(d1, 1, nonlinearity=None)\n",
    "            \n",
    "            weights = get_all_params(out)\n",
    "            result = get_output(out).ravel()\n",
    "\n",
    "            loss = lasagne.objectives.squared_error(target_q, result).mean() + 0 * regularize_network_params(out,l2)\n",
    "\n",
    "            updates = lasagne.updates.adam(loss, weights, learning_rate=0.005)\n",
    "\n",
    "            fit = theano.function([target_q, field_inp.input_var, action_inp.input_var], loss,\n",
    "                                  updates=updates, allow_input_downcast=True)\n",
    "            predict = theano.function([ field_inp.input_var, action_inp.input_var], result, allow_input_downcast=True)\n",
    "        self.nnet = nnet\n",
    "        \n",
    "    def __init__(self,n_states= map_env.observation_space.n , n_actions= map_env.action_space.n,\n",
    "                 width = maze.MazeEnv.RANDOM_WIDTH, height = maze.MazeEnv.RANDOM_HEIGHT, replay_size = 2000):\n",
    "        self.n_states = n_states\n",
    "        self.n_actions = n_actions\n",
    "        self.replay_buffer = []\n",
    "        self.replay_size = replay_size\n",
    "        self.init_nnet(width,height)\n",
    "        self.last_loss = None  \n",
    "    \n",
    "    def q(self,states, actions = None):\n",
    "        if len(states.shape) == 3:\n",
    "            states = states.reshape((1,) + states.shape)\n",
    "        if actions is not None:\n",
    "            return self.nnet.predict(states.astype('float32'),\n",
    "                                     to_categorical(actions, self.n_actions).astype('float32'))\n",
    "        else:\n",
    "            actions = np.arange(self.n_actions)\n",
    "            actions = np.concatenate([actions] * states.shape[0], axis=0)\n",
    "            states = np.stack([states.reshape((states.shape[0],1) \n",
    "                                              + states.shape[1:])]*self.n_actions, axis = 1).reshape(\n",
    "                (states.shape[0]*self.n_actions,) + states.shape[1:])\n",
    "            return self.q(states,actions)\n",
    "    \n",
    "    \n",
    "    \n",
    "    def store(self, s, next_s,a, reward, end):\n",
    "        s = map2input(*s)\n",
    "        next_s = map2input(*next_s)\n",
    "        #target_q = reward + self.sigma * max([self.q(next_s, action)\n",
    "        #                                                    for action in xrange(self.n_actions)])\n",
    "        \n",
    "        self.replay_buffer.append(ReplayStruct(s, a, next_s, reward, end))\n",
    "        \n",
    "        self.replay_buffer = self.replay_buffer[max(len(self.replay_buffer) - self.replay_size, 0): ]\n",
    "        \n",
    "    def fit(self, n_epochs=1 ,batch_size = 20):\n",
    "        losses = []\n",
    "        for epoch in xrange(n_epochs):\n",
    "            taken = np.random.permutation(np.arange(len(self.replay_buffer)))[:batch_size]\n",
    "\n",
    "            states = [self.replay_buffer[ind].s.reshape((1, ) + self.replay_buffer[ind].s.shape) for ind in taken]\n",
    "            actions = [self.replay_buffer[ind].a for ind in taken]\n",
    "            target_q = [self.replay_buffer[ind].reward + (0 if self.replay_buffer[ind].end else 1) * self.sigma\n",
    "                        * max([self.q(self.replay_buffer[ind].next_s, action)\n",
    "                                                            for action in xrange(self.n_actions)])\n",
    "                                                                 for ind in taken]\n",
    "\n",
    "\n",
    "            states = np.concatenate(states)\n",
    "            actions = to_categorical(actions, self.n_actions).astype('float32')\n",
    "            target_q = np.concatenate(target_q)\n",
    "            \n",
    "            #dbg\n",
    "            \"\"\"__s = states \n",
    "            __a = actions\n",
    "            __q = target_q\n",
    "            print __s.shape, __s.sum(), __a.shape, __a.sum(), __q\n",
    "            raise NotImplementedError(\"asdf\")\n",
    "            \"\"\"\n",
    "            losses.append(self.nnet.fit(target_q, states, actions))\n",
    "        self.last_loss = np.mean(losses)\n",
    "        return self.last_loss\n",
    "    \n",
    "    def fit_table(self,table, env, n_epochs = 200, batch_size = 32):\n",
    "        s0, m = env.reset()\n",
    "        to_fit_on = []\n",
    "        \n",
    "        for state in xrange(self.n_states):\n",
    "            for action in xrange(self.n_actions):\n",
    "                to_fit_on.append(ReplayStruct(map2input(state, m, env),action,None, table[state,action],False))\n",
    "        \n",
    "        losses = []\n",
    "        \n",
    "        for epoch in tnrange(n_epochs):\n",
    "            taken = np.random.permutation(np.arange(len(to_fit_on)))[:batch_size]\n",
    "\n",
    "            states = [to_fit_on[ind].s.reshape((1, ) + to_fit_on[ind].s.shape) for ind in taken]\n",
    "            actions = [to_fit_on[ind].a for ind in taken]\n",
    "            target_q = [to_fit_on[ind].reward for ind in taken]\n",
    "            \n",
    "            states = np.concatenate(states)\n",
    "            actions = to_categorical(actions, self.n_actions).astype('float32')\n",
    "            target_q = np.array(target_q)\n",
    "            \n",
    "            losses.append(self.nnet.fit(target_q, states, actions))\n",
    "        return losses\n",
    "        \n",
    "    def __getitem__(self, state): # stochastic moves\n",
    "        return super(DeepQPolicy, self).__getitem__(map2input(*state))"
   ]
  },
  {
   "cell_type": "code",
   "execution_count": 31,
   "metadata": {
    "collapsed": false
   },
   "outputs": [
    {
     "data": {
      "text/plain": [
       "0.04755250792540563"
      ]
     },
     "execution_count": 31,
     "metadata": {},
     "output_type": "execute_result"
    }
   ],
   "source": [
    "0.97**100"
   ]
  },
  {
   "cell_type": "code",
   "execution_count": 69,
   "metadata": {
    "collapsed": false
   },
   "outputs": [],
   "source": [
    "class PolicyGradientPolicy(BasicPolicy):\n",
    "    THINK_TIME = 100\n",
    "    EPSILON = 0.8\n",
    "    N_FILTERS = 32\n",
    "    \n",
    "    GAMMA = theano.shared(0.9)\n",
    "    def init_nnet(self, w, h):\n",
    "        class nnet:\n",
    "            THINK_TIME = PolicyGradientPolicy.THINK_TIME\n",
    "            GAMMA = PolicyGradientPolicy.GAMMA\n",
    "            \n",
    "            rewards = T.fvector(\"target_q\")\n",
    "            \n",
    "            field_inp = InputLayer((None, 3, w+1,h+1))\n",
    "            \n",
    "            batch_size = field_inp.input_var.shape[0]\n",
    "            \n",
    "            think_timer = T.repeat(T.arange(THINK_TIME).astype('float32'),batch_size).reshape((-1,THINK_TIME,1))\n",
    "            think_inp = InputLayer((None,THINK_TIME,1), input_var = think_timer)\n",
    "            \n",
    "            \"\"\"\n",
    "            f = flatten(field_inp)\n",
    "            d0 = concat([f, action_inp])\n",
    "            d1 = DenseLayer(d0, self.N_FILTERS, nonlinearity=T.tanh)\n",
    "            \n",
    "            out = DenseLayer(d1, 1, nonlinearity=None)\n",
    "            \"\"\"\n",
    "            c1 = Conv2DLayer(field_inp, self.N_FILTERS, 3, pad=1, nonlinearity=T.nnet.relu)\n",
    "            c1 = MaxPool2DLayer(c1,2)\n",
    "            c2 = Conv2DLayer(c1, self.N_FILTERS * 3, 3, pad=1,nonlinearity=T.nnet.relu)\n",
    "            c2 = MaxPool2DLayer(c2,2)\n",
    "            f = flatten(c2)\n",
    "            d1 = DenseLayer(f, self.N_FILTERS, nonlinearity=T.tanh)\n",
    "            \n",
    "            lstm = LSTMLayer(think_inp, self.N_FILTERS, cell_init=d1, only_return_final=True)\n",
    "            \n",
    "            d2 = DenseLayer(lstm, self.N_FILTERS, nonlinearity=T.tanh)\n",
    "            out = d2 = DenseLayer(d1, self.n_actions, nonlinearity=None)\n",
    "            \n",
    "            weights = get_all_params(out)\n",
    "            logits = get_output(out)\n",
    "\n",
    "            result = T.nnet.softmax(logits)\n",
    "            log_probas = T.nnet.logsoftmax(logits)\n",
    "            \n",
    "            loss =  -T.sum(GAMMA**T.arange(field_inp.input_var.shape[0])*rewards - 20) * T.sum(log_probas) \n",
    "            \n",
    "            updates = lasagne.updates.adam(loss, weights, learning_rate=0.005)\n",
    "\n",
    "            fit = theano.function([rewards, field_inp.input_var], loss,\n",
    "                                  updates=updates, allow_input_downcast=True)\n",
    "            predict = theano.function([ field_inp.input_var], result, allow_input_downcast=True)\n",
    "        self.nnet = nnet\n",
    "    def __init__(self,n_states= map_env.observation_space.n , n_actions= map_env.action_space.n,\n",
    "                 width = maze.MazeEnv.RANDOM_WIDTH, height = maze.MazeEnv.RANDOM_HEIGHT, replay_size = 2000):\n",
    "        self.n_states = n_states\n",
    "        self.n_actions = n_actions\n",
    "        self.replay_buffer = []\n",
    "        self.replay_size = replay_size\n",
    "        self.init_nnet(width,height)\n",
    "        self.last_loss = None\n",
    "    def __getitem__(self, state):\n",
    "        inp = map2input(*state)\n",
    "        inp = inp.reshape((1,)+inp.shape)\n",
    "        return vetrov_gumbel_softmax(self.nnet.predict(inp),PolicyGradientPolicy.EPSILON, hard= True)[0]"
   ]
  },
  {
   "cell_type": "code",
   "execution_count": null,
   "metadata": {
    "collapsed": true
   },
   "outputs": [],
   "source": []
  },
  {
   "cell_type": "code",
   "execution_count": 67,
   "metadata": {
    "collapsed": false
   },
   "outputs": [],
   "source": [
    "policy = PolicyGradientPolicy()"
   ]
  },
  {
   "cell_type": "code",
   "execution_count": 30,
   "metadata": {
    "collapsed": false
   },
   "outputs": [],
   "source": [
    "policy = DeepQPolicy()"
   ]
  },
  {
   "cell_type": "code",
   "execution_count": 33,
   "metadata": {
    "collapsed": false
   },
   "outputs": [
    {
     "name": "stdout",
     "output_type": "stream",
     "text": [
      "\n"
     ]
    },
    {
     "data": {
      "image/png": "[encoded data removed]",
      "text/plain": [
       "<matplotlib.figure.Figure at 0x7f2155811310>"
      ]
     },
     "metadata": {},
     "output_type": "display_data"
    }
   ],
   "source": [
    "scores, table_p = fit_table_policy(map_env, True, 10000, epsilon_end=0.2)\n",
    "plt.plot(scores)\n",
    "plt.show()"
   ]
  },
  {
   "cell_type": "code",
   "execution_count": 50,
   "metadata": {
    "collapsed": false
   },
   "outputs": [
    {
     "ename": "TypeError",
     "evalue": "q_vis() takes exactly 2 arguments (1 given)",
     "output_type": "error",
     "traceback": [
      "\u001b[1;31m---------------------------------------------------------------------------\u001b[0m",
      "\u001b[1;31mTypeError\u001b[0m                                 Traceback (most recent call last)",
      "\u001b[1;32m<ipython-input-50-febb2b40c286>\u001b[0m in \u001b[0;36m<module>\u001b[1;34m()\u001b[0m\n\u001b[0;32m      1\u001b[0m \u001b[0mplt\u001b[0m\u001b[1;33m.\u001b[0m\u001b[0mfigure\u001b[0m\u001b[1;33m(\u001b[0m\u001b[0mfigsize\u001b[0m\u001b[1;33m=\u001b[0m\u001b[1;33m(\u001b[0m\u001b[1;36m20\u001b[0m\u001b[1;33m,\u001b[0m\u001b[1;36m20\u001b[0m\u001b[1;33m)\u001b[0m\u001b[1;33m)\u001b[0m\u001b[1;33m\u001b[0m\u001b[0m\n\u001b[1;32m----> 2\u001b[1;33m \u001b[0mq_vis\u001b[0m\u001b[1;33m(\u001b[0m\u001b[0mpolicy\u001b[0m\u001b[1;33m)\u001b[0m\u001b[1;33m\u001b[0m\u001b[0m\n\u001b[0m",
      "\u001b[1;31mTypeError\u001b[0m: q_vis() takes exactly 2 arguments (1 given)"
     ]
    },
    {
     "data": {
      "text/plain": [
       "<matplotlib.figure.Figure at 0x7f472e742f10>"
      ]
     },
     "metadata": {},
     "output_type": "display_data"
    }
   ],
   "source": [
    "plt.figure(figsize=(20,20))\n",
    "q_vis(policy)"
   ]
  },
  {
   "cell_type": "code",
   "execution_count": 35,
   "metadata": {
    "collapsed": false
   },
   "outputs": [
    {
     "data": {
      "image/png": "[encoded data removed]",
      "text/plain": [
       "<matplotlib.figure.Figure at 0x7f214b5e3290>"
      ]
     },
     "metadata": {},
     "output_type": "display_data"
    }
   ],
   "source": [
    "plt.figure(figsize=(20,20))\n",
    "q_vis(table_p, map_env)"
   ]
  },
  {
   "cell_type": "code",
   "execution_count": 68,
   "metadata": {
    "collapsed": false
   },
   "outputs": [
    {
     "data": {
      "text/plain": [
       "array([3])"
      ]
     },
     "execution_count": 68,
     "metadata": {},
     "output_type": "execute_result"
    }
   ],
   "source": [
    "policy[state]"
   ]
  },
  {
   "cell_type": "code",
   "execution_count": 41,
   "metadata": {
    "collapsed": false
   },
   "outputs": [
    {
     "data": {
      "image/png": "[encoded data removed]",
      "text/plain": [
       "<matplotlib.figure.Figure at 0x7f472f2e7d10>"
      ]
     },
     "metadata": {},
     "output_type": "display_data"
    }
   ],
   "source": [
    "def render_env(state):\n",
    "    plt.imshow(map2input(*state).swapaxes(0,-1).swapaxes(0,1), interpolation='none');\n",
    "    plt.show()\n",
    "\n",
    "def do_action(action):\n",
    "    state, reward, end, _= map_env.step(action)\n",
    "    clear_output(True)\n",
    "    print reward\n",
    "    \n",
    "    try:\n",
    "        q = policy.q(map2input(*state))\n",
    "        t_q = table_p.q(state[0])\n",
    "        \n",
    "        print 'up',(q[3], t_q[3]),'right', (q[2], t_q[2]),'down',(q[1], t_q[1]),'left',(q[0], t_q[0])\n",
    "        \n",
    "    except:\n",
    "        pass\n",
    "    render_env(state)\n",
    "    \n",
    "    \n",
    "up = widgets.Button(description=\"Up\")\n",
    "down = widgets.Button(description=\"Down\")\n",
    "left =  widgets.Button(description=\"Left\")\n",
    "right = widgets.Button(description=\"Right\")\n",
    "\n",
    "up.on_click(lambda b: do_action(3))\n",
    "down.on_click(lambda b: do_action(1))\n",
    "left.on_click(lambda b: do_action(0))\n",
    "right.on_click(lambda b: do_action(2))\n",
    "\n",
    "\n",
    "display(up)\n",
    "display(down)\n",
    "display(left)\n",
    "display(right)\n",
    "\n",
    "state = map_env.reset()\n",
    "\n",
    "try:\n",
    "    print policy.q(map2input(*state))\n",
    "except:\n",
    "    pass\n",
    "render_env(state)"
   ]
  },
  {
   "cell_type": "code",
   "execution_count": 41,
   "metadata": {
    "collapsed": false
   },
   "outputs": [
    {
     "name": "stdout",
     "output_type": "stream",
     "text": [
      "\n"
     ]
    },
    {
     "data": {
      "image/png": "[encoded data removed]",
      "text/plain": [
       "<matplotlib.figure.Figure at 0x7f2156d1c790>"
      ]
     },
     "metadata": {},
     "output_type": "display_data"
    }
   ],
   "source": [
    "\n",
    "plt.plot(policy.fit_table(table_p._q, map_env, 1500, 200));"
   ]
  },
  {
   "cell_type": "code",
   "execution_count": 42,
   "metadata": {
    "collapsed": true
   },
   "outputs": [],
   "source": [
    "step_hunger = 1\n",
    "n_steps = 100\n",
    "\n",
    "wins = 0\n",
    "scores = []\n"
   ]
  },
  {
   "cell_type": "code",
   "execution_count": 43,
   "metadata": {
    "collapsed": true
   },
   "outputs": [],
   "source": [
    "\n",
    "i=0\n"
   ]
  },
  {
   "cell_type": "code",
   "execution_count": 48,
   "metadata": {
    "collapsed": false,
    "scrolled": true
   },
   "outputs": [
    {
     "data": {
      "text/plain": [
       "0.030402051626476894"
      ]
     },
     "execution_count": 48,
     "metadata": {},
     "output_type": "execute_result"
    }
   ],
   "source": [
    "anneal_epsilon(40000)"
   ]
  },
  {
   "cell_type": "code",
   "execution_count": 49,
   "metadata": {
    "collapsed": false
   },
   "outputs": [
    {
     "name": "stdout",
     "output_type": "stream",
     "text": [
      "0 0.224557 0.460971055107\n"
     ]
    },
    {
     "data": {
      "image/png": "[encoded data removed]",
      "text/plain": [
       "<matplotlib.figure.Figure at 0x7f214bfa9d50>"
      ]
     },
     "metadata": {},
     "output_type": "display_data"
    },
    {
     "ename": "KeyboardInterrupt",
     "evalue": "",
     "output_type": "error",
     "traceback": [
      "\u001b[1;31m---------------------------------------------------------------------------\u001b[0m",
      "\u001b[1;31mKeyboardInterrupt\u001b[0m                         Traceback (most recent call last)",
      "\u001b[1;32m<ipython-input-49-0feca4417823>\u001b[0m in \u001b[0;36m<module>\u001b[1;34m()\u001b[0m\n\u001b[0;32m     33\u001b[0m             \u001b[1;32mbreak\u001b[0m\u001b[1;33m\u001b[0m\u001b[0m\n\u001b[0;32m     34\u001b[0m \u001b[1;33m\u001b[0m\u001b[0m\n\u001b[1;32m---> 35\u001b[1;33m     \u001b[0mpolicy\u001b[0m\u001b[1;33m.\u001b[0m\u001b[0mfit\u001b[0m\u001b[1;33m(\u001b[0m\u001b[1;36m50\u001b[0m\u001b[1;33m,\u001b[0m \u001b[1;36m64\u001b[0m\u001b[1;33m)\u001b[0m\u001b[1;33m\u001b[0m\u001b[0m\n\u001b[0m\u001b[0;32m     36\u001b[0m     \u001b[0mscores\u001b[0m\u001b[1;33m.\u001b[0m\u001b[0mappend\u001b[0m\u001b[1;33m(\u001b[0m\u001b[0mtotal_reward\u001b[0m\u001b[1;33m)\u001b[0m\u001b[1;33m\u001b[0m\u001b[0m\n\u001b[0;32m     37\u001b[0m     \u001b[1;32mif\u001b[0m \u001b[0mi\u001b[0m \u001b[1;33m%\u001b[0m \u001b[1;36m10\u001b[0m \u001b[1;33m==\u001b[0m \u001b[1;36m1\u001b[0m\u001b[1;33m:\u001b[0m\u001b[1;33m\u001b[0m\u001b[0m\n",
      "\u001b[1;32m<ipython-input-29-26982fc7ab43>\u001b[0m in \u001b[0;36mfit\u001b[1;34m(self, n_epochs, batch_size)\u001b[0m\n\u001b[0;32m    110\u001b[0m             \u001b[1;32mraise\u001b[0m \u001b[0mNotImplementedError\u001b[0m\u001b[1;33m(\u001b[0m\u001b[1;34m\"asdf\"\u001b[0m\u001b[1;33m)\u001b[0m\u001b[1;33m\u001b[0m\u001b[0m\n\u001b[0;32m    111\u001b[0m             \"\"\"\n\u001b[1;32m--> 112\u001b[1;33m             \u001b[0mlosses\u001b[0m\u001b[1;33m.\u001b[0m\u001b[0mappend\u001b[0m\u001b[1;33m(\u001b[0m\u001b[0mself\u001b[0m\u001b[1;33m.\u001b[0m\u001b[0mnnet\u001b[0m\u001b[1;33m.\u001b[0m\u001b[0mfit\u001b[0m\u001b[1;33m(\u001b[0m\u001b[0mtarget_q\u001b[0m\u001b[1;33m,\u001b[0m \u001b[0mstates\u001b[0m\u001b[1;33m,\u001b[0m \u001b[0mactions\u001b[0m\u001b[1;33m)\u001b[0m\u001b[1;33m)\u001b[0m\u001b[1;33m\u001b[0m\u001b[0m\n\u001b[0m\u001b[0;32m    113\u001b[0m         \u001b[0mself\u001b[0m\u001b[1;33m.\u001b[0m\u001b[0mlast_loss\u001b[0m \u001b[1;33m=\u001b[0m \u001b[0mnp\u001b[0m\u001b[1;33m.\u001b[0m\u001b[0mmean\u001b[0m\u001b[1;33m(\u001b[0m\u001b[0mlosses\u001b[0m\u001b[1;33m)\u001b[0m\u001b[1;33m\u001b[0m\u001b[0m\n\u001b[0;32m    114\u001b[0m         \u001b[1;32mreturn\u001b[0m \u001b[0mself\u001b[0m\u001b[1;33m.\u001b[0m\u001b[0mlast_loss\u001b[0m\u001b[1;33m\u001b[0m\u001b[0m\n",
      "\u001b[1;32m/usr/local/lib/python2.7/dist-packages/theano/compile/function_module.pyc\u001b[0m in \u001b[0;36m__call__\u001b[1;34m(self, *args, **kwargs)\u001b[0m\n\u001b[0;32m    882\u001b[0m         \u001b[1;32mtry\u001b[0m\u001b[1;33m:\u001b[0m\u001b[1;33m\u001b[0m\u001b[0m\n\u001b[0;32m    883\u001b[0m             \u001b[0moutputs\u001b[0m \u001b[1;33m=\u001b[0m\u001b[0;31m\\\u001b[0m\u001b[1;33m\u001b[0m\u001b[0m\n\u001b[1;32m--> 884\u001b[1;33m                 \u001b[0mself\u001b[0m\u001b[1;33m.\u001b[0m\u001b[0mfn\u001b[0m\u001b[1;33m(\u001b[0m\u001b[1;33m)\u001b[0m \u001b[1;32mif\u001b[0m \u001b[0moutput_subset\u001b[0m \u001b[1;32mis\u001b[0m \u001b[0mNone\u001b[0m \u001b[1;32melse\u001b[0m\u001b[0;31m\\\u001b[0m\u001b[1;33m\u001b[0m\u001b[0m\n\u001b[0m\u001b[0;32m    885\u001b[0m                 \u001b[0mself\u001b[0m\u001b[1;33m.\u001b[0m\u001b[0mfn\u001b[0m\u001b[1;33m(\u001b[0m\u001b[0moutput_subset\u001b[0m\u001b[1;33m=\u001b[0m\u001b[0moutput_subset\u001b[0m\u001b[1;33m)\u001b[0m\u001b[1;33m\u001b[0m\u001b[0m\n\u001b[0;32m    886\u001b[0m         \u001b[1;32mexcept\u001b[0m \u001b[0mException\u001b[0m\u001b[1;33m:\u001b[0m\u001b[1;33m\u001b[0m\u001b[0m\n",
      "\u001b[1;31mKeyboardInterrupt\u001b[0m: "
     ]
    }
   ],
   "source": [
    "N_GAMES = 40000\n",
    "\n",
    "do_visual = False\n",
    "\n",
    "def anneal_epsilon(i):\n",
    "    return 0.5 * ((1 - 7e-5)**i)\n",
    "\n",
    "\n",
    "for i in tnrange(i,N_GAMES):\n",
    "    DeepQPolicy.epsilon = QPolicy.epsilon = anneal_epsilon(i)\n",
    "    #map_env = make_env(True)\n",
    "    s = map_env.reset()\n",
    "    total_reward = 0\n",
    "    \n",
    "    for step in xrange(n_steps):\n",
    "        a = policy[s]\n",
    "        _s, reward, end, _ = map_env.step(a)\n",
    "\n",
    "        reward -= step_hunger\n",
    "        policy.store(s, _s, a, reward, end)\n",
    "        \n",
    "        s = _s\n",
    "        if do_visual:\n",
    "            clear_output(True)\n",
    "            map_env.render()\n",
    "            #plt.show()\n",
    "            #q_vis(policy)\n",
    "            sleep(0.1)\n",
    "        total_reward += reward\n",
    "\n",
    "        if end:\n",
    "            wins+=1\n",
    "            break\n",
    "    \n",
    "    policy.fit(50, 64)\n",
    "    scores.append(total_reward)\n",
    "    if i % 10 == 1:\n",
    "        \n",
    "        plt.plot(scores)\n",
    "        clear_output(True)\n",
    "        print wins, policy.last_loss, DeepQPolicy.epsilon\n",
    "        plt.show()"
   ]
  },
  {
   "cell_type": "code",
   "execution_count": 216,
   "metadata": {
    "collapsed": true
   },
   "outputs": [],
   "source": [
    "DeepQPolicy.epsilon = QPolicy.epsilon = 0.3\n"
   ]
  },
  {
   "cell_type": "code",
   "execution_count": 218,
   "metadata": {
    "collapsed": false
   },
   "outputs": [
    {
     "name": "stdout",
     "output_type": "stream",
     "text": [
      "111111111111111111111\n",
      "100000000000000000001\n",
      "101111111111101111121\n",
      "101000000000201000001\n",
      "101011111111111011101\n",
      "101000000000000000101\n",
      "101110101111111111101\n",
      "100010100000000000001\n",
      "101110111110111011101\n",
      "101000000010001010001\n",
      "101111111110111011101\n",
      "1000100000001\u001b[41m2\u001b[0m0000101\n",
      "101110111111101111101\n",
      "100010100000001000001\n",
      "101010111011101011101\n",
      "100000000010001300001\n",
      "101111111111101011101\n",
      "100010000000000000001\n",
      "100211101111111110001\n",
      "100000000000000000001\n",
      "111111111111111111111\n",
      "  (Left)\n"
     ]
    },
    {
     "data": {
      "text/plain": [
       "-60"
      ]
     },
     "execution_count": 218,
     "metadata": {},
     "output_type": "execute_result"
    }
   ],
   "source": [
    "visualize(policy, map_env)"
   ]
  },
  {
   "cell_type": "code",
   "execution_count": null,
   "metadata": {
    "collapsed": true
   },
   "outputs": [],
   "source": []
  }
 ],
 "metadata": {
  "kernelspec": {
   "display_name": "Python 2",
   "language": "python",
   "name": "python2"
  },
  "language_info": {
   "codemirror_mode": {
    "name": "ipython",
    "version": 2
   },
   "file_extension": ".py",
   "mimetype": "text/x-python",
   "name": "python",
   "nbconvert_exporter": "python",
   "pygments_lexer": "ipython2",
   "version": "2.7.12"
  }
 },
 "nbformat": 4,
 "nbformat_minor": 0
}
