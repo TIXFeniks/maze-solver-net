{
 "cells": [
  {
   "cell_type": "code",
   "execution_count": 1,
   "metadata": {
    "collapsed": false
   },
   "outputs": [],
   "source": [
    "%load_ext autoreload\n",
    "%autoreload 2"
   ]
  },
  {
   "cell_type": "code",
   "execution_count": 2,
   "metadata": {
    "collapsed": false
   },
   "outputs": [],
   "source": [
    "%matplotlib inline\n",
    "import matplotlib.pyplot as plt\n",
    "\n",
    "import gym\n",
    "import maze\n",
    "\n",
    "import numpy as np\n",
    "from tqdm import tnrange\n",
    "\n",
    "from IPython.display import clear_output\n",
    "from time import sleep"
   ]
  },
  {
   "cell_type": "code",
   "execution_count": 3,
   "metadata": {
    "collapsed": true
   },
   "outputs": [],
   "source": [
    "def make_env(show_map = False):\n",
    "    return maze.MazeEnv(map_name = 'random', show_map = show_map)#gym.make(\"Maze-v0\")"
   ]
  },
  {
   "cell_type": "code",
   "execution_count": 4,
   "metadata": {
    "collapsed": false
   },
   "outputs": [],
   "source": [
    "env = make_env()"
   ]
  },
  {
   "cell_type": "code",
   "execution_count": 5,
   "metadata": {
    "collapsed": false
   },
   "outputs": [],
   "source": [
    "class BasicPolicy(object):\n",
    "    def __init__(self,n_states, n_actions):\n",
    "        self.n_states = n_states\n",
    "        self.n_actions = n_actions\n",
    "    \n",
    "    @staticmethod\n",
    "    def mutate(policy, p = 0.5):\n",
    "        raise NotImplementedError(\"No implementation in the base class\")\n",
    "    \n",
    "    @staticmethod\n",
    "    def combine(policy1, policy2, p1 = 0.5):\n",
    "        raise NotImplementedError(\"Can't combine base classes\")\n",
    "        \n",
    "    def __getitem__(self, state):\n",
    "        raise NotImplementedError(\"Can't get item of the base policy\")\n",
    "        \n",
    "class DeterministicPolicy(BasicPolicy):\n",
    "    def __init__(self, n_states= env.observation_space.n , n_actions= env.action_space.n, policy = None):\n",
    "        super(DeterministicPolicy, self).__init__(n_states, n_actions)\n",
    "        if type(policy) == np.ndarray:\n",
    "            self._policy = policy\n",
    "        elif policy:\n",
    "            self._policy = np.array(policy)\n",
    "        else:\n",
    "            self._policy = np.random.randint(0, n_actions, n_states)\n",
    "        \n",
    "    @staticmethod\n",
    "    def mutate(policy, p = 0.5):\n",
    "        rand = DeterministicPolicy(policy.n_states, policy.n_actions)\n",
    "        return DeterministicPolicy.combine(policy, rand, p)\n",
    "    \n",
    "    @staticmethod\n",
    "    def combine(policy1, policy2, p1 = 0.5):\n",
    "        assert policy1.n_states == policy2.n_states\n",
    "        assert policy1.n_actions == policy2.n_actions\n",
    "        \n",
    "        n_states = policy1.n_states\n",
    "        n_actions = policy1.n_actions\n",
    "        \n",
    "        choice = np.random.choice([0,1], n_states, p= [p1, 1-p1])\n",
    "        \n",
    "        policy = np.hstack((policy2._policy, policy1._policy))[np.arange(n_states) + choice * n_states]\n",
    "        \n",
    "        return DeterministicPolicy(n_states, n_actions, policy)\n",
    "        \n",
    "    def __repr__(self):\n",
    "        class_name = str(type(self)).split('.')[-1][:-2]\n",
    "        \n",
    "        return class_name + self._policy.__repr__()[5:]\n",
    "    \n",
    "    def __getitem__(self, state):\n",
    "        return self._policy[state]\n",
    "    \n",
    "class GreedyPolicy(DeterministicPolicy):\n",
    "    epsilon = 0.2 #static, so we can change it for everyone\n",
    "    def __init__(self, n_states= env.observation_space.n , n_actions= env.action_space.n, policy = None):\n",
    "        super(GreedyPolicy, self).__init__(n_states, n_actions, policy)\n",
    "       \n",
    "    @staticmethod\n",
    "    def mutate(policy, p = 0.5):\n",
    "        rand = GreedyPolicy(policy.n_states, policy.n_actions)\n",
    "        return GreedyPolicy.combine(policy, rand, p)\n",
    "    \n",
    "    @staticmethod\n",
    "    def combine(policy1, policy2, p1 = 0.5):\n",
    "        p = super(GreedyPolicy, policy1).combine(policy1, policy2, p1)\n",
    "        return GreedyPolicy(p.n_states, p.n_actions, p._policy)\n",
    "    \n",
    "    def __getitem__(self, state):\n",
    "        if (np.random.choice([False,True],p= [GreedyPolicy.epsilon, 1 - GreedyPolicy.epsilon])):\n",
    "            return self._policy[state]\n",
    "        return np.random.choice(np.arange(self.n_actions))"
   ]
  },
  {
   "cell_type": "code",
   "execution_count": 6,
   "metadata": {
    "collapsed": true
   },
   "outputs": [],
   "source": [
    "def visualize( policy,env = env, n_steps = 100, step_hunger = 1):\n",
    "    s = env.reset()\n",
    "    total_reward = 0\n",
    "    for step in xrange(n_steps):\n",
    "        try:\n",
    "            s, reward, end, _ = env.step(policy[s])\n",
    "            total_reward += reward - step_hunger\n",
    "\n",
    "            clear_output(True)\n",
    "            env.render()\n",
    "            sleep(0.25)\n",
    "\n",
    "            if end:\n",
    "                break\n",
    "        except KeyboardInterrupt:\n",
    "            break\n",
    "    return total_reward"
   ]
  },
  {
   "cell_type": "code",
   "execution_count": 7,
   "metadata": {
    "collapsed": false
   },
   "outputs": [],
   "source": [
    "def score(policy, env= env, n_steps = 100, step_hunger = 1):\n",
    "    s = env.reset()\n",
    "    total_reward = 0\n",
    "    for step in xrange(n_steps):\n",
    "        s, reward, end, _ = env.step(policy[s])\n",
    "        total_reward += reward - step_hunger\n",
    "        if end:\n",
    "            break\n",
    "    return total_reward\n",
    "\n",
    "def sample_score(policy, env= env, n_times = 80, n_steps = 50):\n",
    "    return np.mean([score(policy,env, n_steps) for i in xrange(n_times)])"
   ]
  },
  {
   "cell_type": "markdown",
   "metadata": {},
   "source": [
    "## genetic solver"
   ]
  },
  {
   "cell_type": "code",
   "execution_count": 8,
   "metadata": {
    "collapsed": true
   },
   "outputs": [],
   "source": [
    "import multiprocessing\n",
    "from contextlib import contextmanager\n",
    "from functools import partial\n",
    "\n",
    "@contextmanager\n",
    "def poolcontext(*args, **kwargs):\n",
    "    pool = multiprocessing.Pool(*args, **kwargs)\n",
    "    yield pool\n",
    "    pool.terminate()"
   ]
  },
  {
   "cell_type": "code",
   "execution_count": 9,
   "metadata": {
    "collapsed": true
   },
   "outputs": [],
   "source": [
    "POOL_SIZE = 50\n",
    "\n",
    "pool = [GreedyPolicy() for i in xrange(POOL_SIZE)]"
   ]
  },
  {
   "cell_type": "code",
   "execution_count": 10,
   "metadata": {
    "collapsed": true
   },
   "outputs": [],
   "source": [
    "class Scorer(object):\n",
    "    def __init__(self, env= None, n_times = 80, n_steps = 50):\n",
    "        self.env = env\n",
    "        self.n_steps = n_steps\n",
    "    def __call__(self, policy):\n",
    "        if self.env is None:\n",
    "            self.env = make_env()\n",
    "        return sample_score(policy, self.env, self.n_steps)\n",
    "    \n",
    "\n",
    "def fast_score_pool(pool, env= env, n_times = 80, n_steps = 50):\n",
    "    results = []\n",
    "    with poolcontext(processes=3) as _pool:\n",
    "        results = _pool.map(Scorer(), pool)\n",
    "    return results"
   ]
  },
  {
   "cell_type": "code",
   "execution_count": 11,
   "metadata": {
    "collapsed": true
   },
   "outputs": [],
   "source": [
    "\n",
    "N_MUTANTS = 25\n",
    "N_CHILDREN = 25\n",
    "MUTATION_PROBA = 0.1\n",
    "\n",
    "top_scores = []\n",
    "mean_scores = []\n"
   ]
  },
  {
   "cell_type": "code",
   "execution_count": 12,
   "metadata": {
    "collapsed": false
   },
   "outputs": [
    {
     "name": "stdout",
     "output_type": "stream",
     "text": [
      "\n"
     ]
    }
   ],
   "source": [
    "N_EPOCHS = 30\n",
    "for epoch in tnrange(N_EPOCHS):\n",
    "    scores = fast_score_pool(pool)\n",
    "    survivers = np.argsort(scores)[-POOL_SIZE:]\n",
    "    pool = [pool[i] for i in survivers]\n",
    "    scores = [scores[i] for i in survivers]\n",
    "    \n",
    "    top_scores.append(scores[-1])\n",
    "    mean_scores.append(np.mean(scores))\n",
    "    \n",
    "    combinations = np.random.randint(len(pool),size=(N_CHILDREN,2))\n",
    "    \n",
    "    softmax_2_0 = lambda s1,s2 : np.exp(s1) / (np.exp(s1) + np.exp(s2)) \n",
    "    pool += [GreedyPolicy.combine(pool[p1],pool[p2], softmax_2_0(scores[p1]/50.,scores[p2]/50.))\n",
    "             for p1, p2 in combinations]\n",
    "    \n",
    "    pool += [GreedyPolicy.mutate(pool[np.random.randint(len(pool))], MUTATION_PROBA) \n",
    "             for i in xrange(N_MUTANTS)]\n",
    "    "
   ]
  },
  {
   "cell_type": "code",
   "execution_count": 13,
   "metadata": {
    "collapsed": true
   },
   "outputs": [],
   "source": [
    "GreedyPolicy.epsilon = 0.0"
   ]
  },
  {
   "cell_type": "code",
   "execution_count": 14,
   "metadata": {
    "collapsed": false
   },
   "outputs": [
    {
     "data": {
      "text/plain": [
       "97.799999999999997"
      ]
     },
     "execution_count": 14,
     "metadata": {},
     "output_type": "execute_result"
    }
   ],
   "source": [
    "sample_score(pool[-1])"
   ]
  },
  {
   "cell_type": "code",
   "execution_count": 15,
   "metadata": {
    "collapsed": false,
    "scrolled": false
   },
   "outputs": [
    {
     "name": "stdout",
     "output_type": "stream",
     "text": [
      "11111\n",
      "12021\n",
      "111\u001b[41m3\u001b[0m1\n",
      "12201\n",
      "11111\n",
      "  (Down)\n"
     ]
    },
    {
     "data": {
      "text/plain": [
       "99"
      ]
     },
     "execution_count": 15,
     "metadata": {},
     "output_type": "execute_result"
    }
   ],
   "source": [
    "visualize(pool[-1])"
   ]
  },
  {
   "cell_type": "code",
   "execution_count": 16,
   "metadata": {
    "collapsed": false,
    "scrolled": true
   },
   "outputs": [
    {
     "data": {
      "image/png": "[encoded data removed]",
      "text/plain": [
       "<matplotlib.figure.Figure at 0x7f78ff984550>"
      ]
     },
     "metadata": {},
     "output_type": "display_data"
    },
    {
     "data": {
      "image/png": "[encoded data removed]",
      "text/plain": [
       "<matplotlib.figure.Figure at 0x7f78ff9a4c50>"
      ]
     },
     "metadata": {},
     "output_type": "display_data"
    }
   ],
   "source": [
    "plt.plot(top_scores)\n",
    "plt.plot(mean_scores)\n",
    "plt.show()\n",
    "plt.hist(scores);"
   ]
  },
  {
   "cell_type": "markdown",
   "metadata": {},
   "source": [
    "## Q-learning solver"
   ]
  },
  {
   "cell_type": "code",
   "execution_count": 8,
   "metadata": {
    "collapsed": true
   },
   "outputs": [],
   "source": [
    "def softmax(x):\n",
    "    x = np.exp(x)\n",
    "    return x / x.sum(axis = -1).reshape(x.shape[:-1] + (1,))"
   ]
  },
  {
   "cell_type": "code",
   "execution_count": 9,
   "metadata": {
    "collapsed": false
   },
   "outputs": [],
   "source": [
    "def vetrov_gumbel_softmax(inp, vetrovness = 1.0,temperature = 1.0 , epsilon = 1e-10, hard=False): \n",
    "    \"\"\"\n",
    "        Gumbel softmax with vetrovness instead of the temperature. \n",
    "            vetrovness = 0 => simple softmax\n",
    "            vetrovness = inf => uniform\n",
    "        Hard will return the sampled indicies\n",
    "    \"\"\"\n",
    "    uniform_sample = np.random.uniform(size = inp.shape, low=0, high=1).astype('float32')\n",
    "    gumbel_dist = -np.log(-np.log(uniform_sample + epsilon) + epsilon)\n",
    "    softm = softmax((inp + gumbel_dist * vetrovness) / temperature)\n",
    "    if hard:\n",
    "        return np.argmax(softm,axis=-1)\n",
    "    return softm"
   ]
  },
  {
   "cell_type": "code",
   "execution_count": 10,
   "metadata": {
    "collapsed": false
   },
   "outputs": [
    {
     "data": {
      "image/png": "[encoded data removed]",
      "text/plain": [
       "<matplotlib.figure.Figure at 0x7f6933f96a10>"
      ]
     },
     "metadata": {},
     "output_type": "display_data"
    }
   ],
   "source": [
    "arr = np.array([[0.3,0.2,0.5,0.4]])\n",
    "\n",
    "plt.hist(vetrov_gumbel_softmax(np.concatenate([arr]*200),vetrovness=0.2, hard = True));"
   ]
  },
  {
   "cell_type": "code",
   "execution_count": 10,
   "metadata": {
    "collapsed": true
   },
   "outputs": [],
   "source": [
    "def normalize(x, axis = None):\n",
    "    x = np.array(x).astype('float32') # just to be sure\n",
    "    if axis is None:\n",
    "        return x / np.max(np.abs(x))\n",
    "    if axis == -1 or axis == x.ndim - 1:\n",
    "        return x / np.max(np.abs(x), axis= -1).reshape(x.shape[:-1] + (1,))\n",
    "    raise NotImplementedError(\"Can't normalize non-ending axis\")"
   ]
  },
  {
   "cell_type": "code",
   "execution_count": 11,
   "metadata": {
    "collapsed": false
   },
   "outputs": [],
   "source": [
    "class QPolicy(BasicPolicy):\n",
    "    #TODO: mb move these into the instance?\n",
    "    epsilon = 0.2# randomness of the actions\n",
    "    sigma = 0.7# importance of the futue rewards\n",
    "    LF = 0.9 # learning factor\n",
    "    sampling = \"e-greedy\"\n",
    "    \n",
    "    def __init__(self,n_states= env.observation_space.n , n_actions= env.action_space.n):\n",
    "        self.n_states = n_states\n",
    "        self.n_actions = n_actions\n",
    "        self._q = np.zeros((n_states, n_actions))\n",
    "    \n",
    "    def set_q(self, q):\n",
    "        self._q = q\n",
    "        \n",
    "    def get_q(self, env):\n",
    "        return self._q\n",
    "    \n",
    "    def q(self,state, action = None):\n",
    "        if action is not None:\n",
    "            return self._q[state, action]\n",
    "        else:\n",
    "            return self._q[state]\n",
    "    \n",
    "    def fit(self, s, next_s,a, reward):\n",
    "        self._q[s,a] += self.LF * (reward + self.sigma * max([self._q[next_s, action]\n",
    "                                                            for action in xrange(self.n_actions)])\n",
    "                              - self._q[s,a])\n",
    "    \n",
    "    def __getitem__(self, state): # stochastic moves\n",
    "        if self.sampling == 'e-greedy':\n",
    "            if (np.random.choice([False,True],p= [QPolicy.epsilon, 1 - QPolicy.epsilon])):\n",
    "                return np.argmax(self.q(state))\n",
    "            return np.random.choice(np.arange(self.n_actions))\n",
    "        else:\n",
    "            q = self.q(state)\n",
    "            return vetrov_gumbel_softmax(q,vetrovness=self.epsilon , hard=True) "
   ]
  },
  {
   "cell_type": "code",
   "execution_count": 13,
   "metadata": {
    "collapsed": true
   },
   "outputs": [],
   "source": [
    "policy = QPolicy()"
   ]
  },
  {
   "cell_type": "code",
   "execution_count": 14,
   "metadata": {
    "collapsed": false
   },
   "outputs": [
    {
     "data": {
      "text/plain": [
       "0"
      ]
     },
     "execution_count": 14,
     "metadata": {},
     "output_type": "execute_result"
    }
   ],
   "source": [
    "policy[0]"
   ]
  },
  {
   "cell_type": "code",
   "execution_count": 24,
   "metadata": {
    "collapsed": true
   },
   "outputs": [],
   "source": [
    "step_hunger = 1\n",
    "n_steps = 100"
   ]
  },
  {
   "cell_type": "code",
   "execution_count": 15,
   "metadata": {
    "collapsed": false
   },
   "outputs": [],
   "source": [
    "QPolicy.epsilon = 0.1"
   ]
  },
  {
   "cell_type": "code",
   "execution_count": 16,
   "metadata": {
    "collapsed": true
   },
   "outputs": [],
   "source": [
    "def q_vis(policy, env):\n",
    "    q = policy.get_q(env)\n",
    "    plt.subplot(1,4,1)\n",
    "    plt.imshow(np.abs(q.reshape((21,21,4))[:,:,0]),interpolation='none')\n",
    "    plt.subplot(1,4,2)\n",
    "    plt.imshow(np.abs(q.reshape((21,21,4))[:,:,1]),interpolation='none')\n",
    "    plt.subplot(1,4,3)\n",
    "    plt.imshow(np.abs(q.reshape((21,21,4))[:,:,2]),interpolation='none')\n",
    "    plt.subplot(1,4,4)\n",
    "    plt.imshow(np.abs(q.reshape((21,21,4))[:,:,3]),interpolation='none')"
   ]
  },
  {
   "cell_type": "code",
   "execution_count": 27,
   "metadata": {
    "collapsed": false,
    "scrolled": true
   },
   "outputs": [
    {
     "ename": "TypeError",
     "evalue": "q_vis() takes exactly 2 arguments (1 given)",
     "output_type": "error",
     "traceback": [
      "\u001b[1;31m---------------------------------------------------------------------------\u001b[0m",
      "\u001b[1;31mTypeError\u001b[0m                                 Traceback (most recent call last)",
      "\u001b[1;32m<ipython-input-27-4dbde313a50e>\u001b[0m in \u001b[0;36m<module>\u001b[1;34m()\u001b[0m\n\u001b[1;32m----> 1\u001b[1;33m \u001b[0mq_vis\u001b[0m\u001b[1;33m(\u001b[0m\u001b[0mpolicy\u001b[0m\u001b[1;33m)\u001b[0m\u001b[1;33m\u001b[0m\u001b[0m\n\u001b[0m",
      "\u001b[1;31mTypeError\u001b[0m: q_vis() takes exactly 2 arguments (1 given)"
     ]
    }
   ],
   "source": [
    "q_vis(policy)"
   ]
  },
  {
   "cell_type": "code",
   "execution_count": 17,
   "metadata": {
    "collapsed": true
   },
   "outputs": [],
   "source": [
    "do_visual = False# TODO: refactor\n",
    "\n",
    "\n",
    "def fit_table_policy(env, do_split = False, N_GAMES = 1000, epsilon_start = 0.9, epsilon_end = 0.05):\n",
    "    exponent = np.exp(np.log(epsilon_end/epsilon_start) / N_GAMES)\n",
    "    def anneal_epsilon(i):\n",
    "        return epsilon_start * (exponent**i)\n",
    "    scores = []\n",
    "    policy = QPolicy()\n",
    "    for i in tnrange(N_GAMES):\n",
    "        QPolicy.epsilon = anneal_epsilon(i)\n",
    "        s = env.reset()\n",
    "        total_reward = 0\n",
    "        if do_split:\n",
    "            s = s[0]\n",
    "        for step in xrange(n_steps):\n",
    "            \n",
    "            \n",
    "            a = policy[s]\n",
    "            _s, reward, end, _ = env.step(a)\n",
    "            if do_split:\n",
    "                _s = _s[0]\n",
    "            reward -= step_hunger\n",
    "            \n",
    "            policy.fit(s, _s, a, reward)\n",
    "\n",
    "            s = _s\n",
    "            if do_visual:\n",
    "                clear_output(True)\n",
    "                env.render()\n",
    "                plt.show()\n",
    "                q_vis(policy)\n",
    "                sleep(0.01)\n",
    "            total_reward += reward\n",
    "\n",
    "            if end:\n",
    "                break\n",
    "        scores.append(total_reward)\n",
    "    return scores, policy"
   ]
  },
  {
   "cell_type": "code",
   "execution_count": 31,
   "metadata": {
    "collapsed": false
   },
   "outputs": [
    {
     "name": "stdout",
     "output_type": "stream",
     "text": [
      "\n"
     ]
    },
    {
     "data": {
      "image/png": "[encoded data removed]",
      "text/plain": [
       "<matplotlib.figure.Figure at 0x7f78fcd1bcd0>"
      ]
     },
     "metadata": {},
     "output_type": "display_data"
    }
   ],
   "source": [
    "\n",
    "plt.plot(fit_table_policy(map_env, True,500)[0]);"
   ]
  },
  {
   "cell_type": "code",
   "execution_count": 32,
   "metadata": {
    "collapsed": true
   },
   "outputs": [],
   "source": [
    "QPolicy.epsilon = 0.00"
   ]
  },
  {
   "cell_type": "code",
   "execution_count": 33,
   "metadata": {
    "collapsed": false
   },
   "outputs": [
    {
     "name": "stdout",
     "output_type": "stream",
     "text": [
      "11111\n",
      "12021\n",
      "11131\n",
      "1\u001b[41m2\u001b[0m201\n",
      "11111\n",
      "  (Left)\n"
     ]
    },
    {
     "data": {
      "text/plain": [
       "-76"
      ]
     },
     "execution_count": 33,
     "metadata": {},
     "output_type": "execute_result"
    }
   ],
   "source": [
    "visualize(policy)"
   ]
  },
  {
   "cell_type": "markdown",
   "metadata": {},
   "source": [
    "## DeepQLearning"
   ]
  },
  {
   "cell_type": "code",
   "execution_count": 12,
   "metadata": {
    "collapsed": false
   },
   "outputs": [],
   "source": [
    "map_env = make_env(True)"
   ]
  },
  {
   "cell_type": "code",
   "execution_count": 13,
   "metadata": {
    "collapsed": true
   },
   "outputs": [],
   "source": [
    "def map2input(s,_map, env = map_env):\n",
    "    result = np.zeros((3,) + _map.shape)\n",
    "    result[0] = (_map == '1').astype('float32')\n",
    "    \n",
    "    x,y = env.from_s(s)\n",
    "    result[1,x,y] = 1\n",
    "    result[2] = (_map == '3').astype('float32')\n",
    "    \n",
    "    return result"
   ]
  },
  {
   "cell_type": "code",
   "execution_count": 14,
   "metadata": {
    "collapsed": true
   },
   "outputs": [],
   "source": [
    "from ipywidgets import widgets\n",
    "from IPython.display import display"
   ]
  },
  {
   "cell_type": "code",
   "execution_count": 15,
   "metadata": {
    "collapsed": false
   },
   "outputs": [
    {
     "name": "stdout",
     "output_type": "stream",
     "text": [
      "env: KERAS_BACKEND=theano\n"
     ]
    },
    {
     "name": "stderr",
     "output_type": "stream",
     "text": [
      "Using Theano backend.\n"
     ]
    }
   ],
   "source": [
    "import theano\n",
    "import theano.tensor as T\n",
    "\n",
    "import lasagne\n",
    "from lasagne.layers import *\n",
    "from lasagne.regularization import regularize_network_params, l2\n",
    "\n",
    "%env KERAS_BACKEND=theano\n",
    "from keras.utils import to_categorical"
   ]
  },
  {
   "cell_type": "code",
   "execution_count": 16,
   "metadata": {
    "collapsed": true
   },
   "outputs": [],
   "source": [
    "class ReplayStruct:\n",
    "    def __init__(self,s, a, next_s, reward, end):\n",
    "        self.s = s\n",
    "        self.a = a\n",
    "        self.next_s = next_s\n",
    "        self.reward = reward\n",
    "        self.end = end"
   ]
  },
  {
   "cell_type": "code",
   "execution_count": 17,
   "metadata": {
    "collapsed": false
   },
   "outputs": [],
   "source": [
    "class DeepQPolicy(QPolicy):\n",
    "    \n",
    "    N_FILTERS = 32\n",
    "    THINK_TIME = 100\n",
    "    sigma = 0.97\n",
    "    \n",
    "    def init_nnet(self, w, h):\n",
    "        class nnet:\n",
    "            THINK_TIME = DeepQPolicy.THINK_TIME\n",
    "            \n",
    "            target_q = T.fvector(\"target_q\")\n",
    "\n",
    "            field_inp = InputLayer((None, 3, w+1,h+1))\n",
    "            action_inp = InputLayer((None, self.n_actions))\n",
    "            \n",
    "            batch_size = field_inp.input_var.shape[0]\n",
    "            \n",
    "            think_timer = T.repeat(T.arange(THINK_TIME).astype('float32'),batch_size).reshape((-1,THINK_TIME,1))\n",
    "            think_inp = InputLayer((None,THINK_TIME,1), input_var = think_timer)\n",
    "            \n",
    "            \"\"\"\n",
    "            f = flatten(field_inp)\n",
    "            d0 = concat([f, action_inp])\n",
    "            d1 = DenseLayer(d0, self.N_FILTERS, nonlinearity=T.tanh)\n",
    "            \n",
    "            out = DenseLayer(d1, 1, nonlinearity=None)\n",
    "            \"\"\"\n",
    "            c1 = Conv2DLayer(field_inp, self.N_FILTERS, 3, pad=1, nonlinearity=T.nnet.relu)\n",
    "            c1 = MaxPool2DLayer(c1,2)\n",
    "            c2 = Conv2DLayer(c1, self.N_FILTERS * 3, 3, pad=1,nonlinearity=T.nnet.relu)\n",
    "            c2 = MaxPool2DLayer(c2,2)\n",
    "            f = flatten(c2)\n",
    "            d0 = concat([f, action_inp])\n",
    "            d1 = DenseLayer(d0, self.N_FILTERS, nonlinearity=T.tanh)\n",
    "            \n",
    "            lstm = LSTMLayer(think_inp, self.N_FILTERS, cell_init=d1, only_return_final=True)\n",
    "            \n",
    "            d2 = DenseLayer(lstm, self.N_FILTERS, nonlinearity=T.tanh)\n",
    "            out = d2 = DenseLayer(d1, 1, nonlinearity=None)\n",
    "            \n",
    "            weights = get_all_params(out)\n",
    "            result = get_output(out).ravel()\n",
    "\n",
    "            loss = lasagne.objectives.squared_error(target_q, result).mean() + 0 * regularize_network_params(out,l2)\n",
    "\n",
    "            updates = lasagne.updates.adam(loss, weights, learning_rate=0.005)\n",
    "\n",
    "            fit = theano.function([target_q, field_inp.input_var, action_inp.input_var], loss,\n",
    "                                  updates=updates, allow_input_downcast=True)\n",
    "            predict = theano.function([ field_inp.input_var, action_inp.input_var], result, allow_input_downcast=True)\n",
    "        self.nnet = nnet\n",
    "        \n",
    "    def __init__(self,n_states= map_env.observation_space.n , n_actions= map_env.action_space.n,\n",
    "                 width = maze.MazeEnv.RANDOM_WIDTH, height = maze.MazeEnv.RANDOM_HEIGHT, replay_size = 2000):\n",
    "        self.n_states = n_states\n",
    "        self.n_actions = n_actions\n",
    "        self.replay_buffer = []\n",
    "        self.replay_size = replay_size\n",
    "        self.init_nnet(width,height)\n",
    "        self.last_loss = None  \n",
    "    \n",
    "    def q(self,states, actions = None):\n",
    "        if len(states.shape) == 3:\n",
    "            states = states.reshape((1,) + states.shape)\n",
    "        if actions is not None:\n",
    "            return self.nnet.predict(states.astype('float32'),\n",
    "                                     to_categorical(actions, self.n_actions).astype('float32'))\n",
    "        else:\n",
    "            actions = np.arange(self.n_actions)\n",
    "            actions = np.concatenate([actions] * states.shape[0], axis=0)\n",
    "            states = np.stack([states.reshape((states.shape[0],1) \n",
    "                                              + states.shape[1:])]*self.n_actions, axis = 1).reshape(\n",
    "                (states.shape[0]*self.n_actions,) + states.shape[1:])\n",
    "            return self.q(states,actions)\n",
    "    \n",
    "    \n",
    "    \n",
    "    def store(self, s, next_s,a, reward, end):\n",
    "        s = map2input(*s)\n",
    "        next_s = map2input(*next_s)\n",
    "        #target_q = reward + self.sigma * max([self.q(next_s, action)\n",
    "        #                                                    for action in xrange(self.n_actions)])\n",
    "        \n",
    "        self.replay_buffer.append(ReplayStruct(s, a, next_s, reward, end))\n",
    "        \n",
    "        self.replay_buffer = self.replay_buffer[max(len(self.replay_buffer) - self.replay_size, 0): ]\n",
    "        \n",
    "    def fit(self, n_epochs=1 ,batch_size = 20):\n",
    "        losses = []\n",
    "        for epoch in xrange(n_epochs):\n",
    "            taken = np.random.permutation(np.arange(len(self.replay_buffer)))[:batch_size]\n",
    "\n",
    "            states = [self.replay_buffer[ind].s.reshape((1, ) + self.replay_buffer[ind].s.shape) for ind in taken]\n",
    "            actions = [self.replay_buffer[ind].a for ind in taken]\n",
    "            target_q = [self.replay_buffer[ind].reward + (0 if self.replay_buffer[ind].end else 1) * self.sigma\n",
    "                        * max([self.q(self.replay_buffer[ind].next_s, action)\n",
    "                                                            for action in xrange(self.n_actions)])\n",
    "                                                                 for ind in taken]\n",
    "\n",
    "\n",
    "            states = np.concatenate(states)\n",
    "            actions = to_categorical(actions, self.n_actions).astype('float32')\n",
    "            target_q = np.concatenate(target_q)\n",
    "            \n",
    "            #dbg\n",
    "            \"\"\"__s = states \n",
    "            __a = actions\n",
    "            __q = target_q\n",
    "            print __s.shape, __s.sum(), __a.shape, __a.sum(), __q\n",
    "            raise NotImplementedError(\"asdf\")\n",
    "            \"\"\"\n",
    "            losses.append(self.nnet.fit(target_q, states, actions))\n",
    "        self.last_loss = np.mean(losses)\n",
    "        return self.last_loss\n",
    "    \n",
    "    def fit_table(self,table, env, n_epochs = 200, batch_size = 32):\n",
    "        s0, m = env.reset()\n",
    "        to_fit_on = []\n",
    "        \n",
    "        for state in xrange(self.n_states):\n",
    "            for action in xrange(self.n_actions):\n",
    "                to_fit_on.append(ReplayStruct(map2input(state, m, env),action,None, table[state,action],False))\n",
    "        \n",
    "        losses = []\n",
    "        \n",
    "        for epoch in tnrange(n_epochs):\n",
    "            taken = np.random.permutation(np.arange(len(to_fit_on)))[:batch_size]\n",
    "\n",
    "            states = [to_fit_on[ind].s.reshape((1, ) + to_fit_on[ind].s.shape) for ind in taken]\n",
    "            actions = [to_fit_on[ind].a for ind in taken]\n",
    "            target_q = [to_fit_on[ind].reward for ind in taken]\n",
    "            \n",
    "            states = np.concatenate(states)\n",
    "            actions = to_categorical(actions, self.n_actions).astype('float32')\n",
    "            target_q = np.array(target_q)\n",
    "            \n",
    "            losses.append(self.nnet.fit(target_q, states, actions))\n",
    "        return losses\n",
    "        \n",
    "    def __getitem__(self, state): # stochastic moves\n",
    "        return super(DeepQPolicy, self).__getitem__(map2input(*state))"
   ]
  },
  {
   "cell_type": "code",
   "execution_count": 27,
   "metadata": {
    "collapsed": false
   },
   "outputs": [],
   "source": [
    "class PolicyGradientPolicy(BasicPolicy):\n",
    "    THINK_TIME = 100\n",
    "    EPSILON = 0.8\n",
    "    N_FILTERS = 32\n",
    "    \n",
    "    GAMMA = theano.shared(np.float32(0.97))\n",
    "    ENTROPY_REGULIZER = theano.shared(np.float32(50.0))\n",
    "    def init_nnet(self, w, h):\n",
    "        class nnet:\n",
    "            THINK_TIME = PolicyGradientPolicy.THINK_TIME\n",
    "            GAMMA = PolicyGradientPolicy.GAMMA\n",
    "            ENTROPY_REGULIZER = PolicyGradientPolicy.ENTROPY_REGULIZER\n",
    "            \n",
    "            rewards = T.fvector(\"target_q\")\n",
    "            \n",
    "            field_inp = InputLayer((None, 3, w+1,h+1))\n",
    "            \n",
    "            batch_size = field_inp.input_var.shape[0]\n",
    "            \n",
    "            action_inp = T.ivector()\n",
    "            \n",
    "            think_timer = T.repeat(T.arange(THINK_TIME).astype('float32'),batch_size).reshape((-1,THINK_TIME,1))\n",
    "            think_inp = InputLayer((None,THINK_TIME,1), input_var = think_timer)\n",
    "            \n",
    "            \"\"\"\n",
    "            f = flatten(field_inp)\n",
    "            d0 = concat([f, action_inp])\n",
    "            d1 = DenseLayer(d0, self.N_FILTERS, nonlinearity=T.tanh)\n",
    "            \n",
    "            out = DenseLayer(d1, 1, nonlinearity=None)\n",
    "            \"\"\"\n",
    "            c1 = Conv2DLayer(field_inp, self.N_FILTERS, 3, pad=1, nonlinearity=T.nnet.relu)\n",
    "            \"\"\"\n",
    "            c1 = Conv2DLayer(c1, self.N_FILTERS * 3, 3, pad=1,nonlinearity=T.nnet.relu)\n",
    "            c1 = MaxPool2DLayer(c1,2)\n",
    "            \"\"\"\n",
    "            f = flatten(c1)\n",
    "            d1 = DenseLayer(f, self.N_FILTERS, nonlinearity=T.tanh)\n",
    "            #lstm = LSTMLayer(think_inp, self.N_FILTERS, cell_init=d1, only_return_final=True)\n",
    "            \n",
    "            d2 = DenseLayer(d1, self.N_FILTERS, nonlinearity=T.tanh)\n",
    "            out = d2 = DenseLayer(d2, self.n_actions, nonlinearity=None)\n",
    "            \n",
    "            weights = get_all_params(out)\n",
    "            logits = get_output(out)\n",
    "\n",
    "            result = T.nnet.softmax(logits)\n",
    "            log_probas = T.nnet.logsoftmax(logits)\n",
    "            \n",
    "            elemwise_entropy = -T.sum(result * log_probas,axis=-1)\n",
    "            entropy = T.mean(elemwise_entropy)\n",
    "            \n",
    "            rew_step = lambda rew,q: (rew + PolicyGradientPolicy.GAMMA * q).astype(\"float32\")\n",
    "\n",
    "            rew, auto_updates = theano.scan(fn= rew_step,sequences=rewards, outputs_info=0.,\n",
    "                                            n_steps=rewards.shape[0], go_backwards=True)\n",
    "            rew = rew[::-1]\n",
    "            \n",
    "            \"\"\"G = GAMMA**T.arange(rewards.shape[0])\n",
    "\n",
    "            rew = T.cumsum((G*rewards)[::-1])[::-1] / G\"\"\"\n",
    "            \n",
    "            loss = -T.mean(rew*(log_probas[T.arange(log_probas.shape[0]),\n",
    "                                           action_inp]+ T.sgn(rew) * elemwise_entropy * ENTROPY_REGULIZER))\n",
    "            \n",
    "            grads = T.grad(loss, weights)\n",
    "            grads = lasagne.updates.total_norm_constraint(grads, 1e1)\n",
    "            \n",
    "            updates = lasagne.updates.sgd(grads, weights, learning_rate=0.001)\n",
    "\n",
    "            fit = theano.function([rewards, field_inp.input_var, action_inp], entropy,\n",
    "                                  updates=updates + auto_updates, allow_input_downcast=True)\n",
    "            predict = theano.function([ field_inp.input_var], result, allow_input_downcast=True)\n",
    "        self.nnet = nnet\n",
    "    \n",
    "    def store(self, game):\n",
    "        \n",
    "        self.replay_buffer.append(game)\n",
    "        \n",
    "        self.replay_buffer = self.replay_buffer[max(len(self.replay_buffer) - self.replay_size, 0): ]\n",
    "    \n",
    "    def _fit_step(self, game):\n",
    "        #start_from = np.random.randint(len(game))\n",
    "        #game = game[start_from:]\n",
    "        \n",
    "        rewards = np.array([step[3] for step in game])\n",
    "        states = np.concatenate([step[0].reshape((1,)+step[0].shape) for step in game])\n",
    "        actions = np.array([step[2] for step in game])\n",
    "        \n",
    "        res = self.nnet.fit(rewards, states, actions)\n",
    "        \n",
    "        return res\n",
    "    \n",
    "    def fit(self, batch_size = 1):\n",
    "        losses = []\n",
    "        taken = np.random.permutation(np.arange(len(self.replay_buffer)))[:batch_size]\n",
    "        \n",
    "        for index in taken: \n",
    "            losses.append(self._fit_step(self.replay_buffer[index]))\n",
    "        return np.mean(losses)\n",
    "    \n",
    "    def __init__(self,n_states= map_env.observation_space.n , n_actions= map_env.action_space.n,\n",
    "                 width = maze.MazeEnv.RANDOM_WIDTH, height = maze.MazeEnv.RANDOM_HEIGHT, replay_size = 10):\n",
    "        self.n_states = n_states\n",
    "        self.n_actions = n_actions\n",
    "        self.replay_buffer = []\n",
    "        self.replay_size = replay_size\n",
    "        self.init_nnet(width,height)\n",
    "        self.last_loss = None\n",
    "    def __getitem__(self, state):\n",
    "        inp = map2input(*state) if len(state) == 2 else state\n",
    "        inp = inp.reshape((1,)+inp.shape)\n",
    "        pred = self.nnet.predict(inp)\n",
    "        return np.random.choice(np.arange(self.n_actions), p=pred[0])\n",
    "        #return np.random.randint(self.n_actions) if np.random.choice([True,False], \n",
    "        #     p=[self.EPSILON, 1-self.EPSILON]) else np.argmax(self.nnet.predict(inp))\n",
    "        #vetrov_gumbel_softmax(self.nnet.predict(inp),PolicyGradientPolicy.EPSILON, hard= True)[0]"
   ]
  },
  {
   "cell_type": "code",
   "execution_count": 28,
   "metadata": {
    "collapsed": false
   },
   "outputs": [],
   "source": [
    "policy = PolicyGradientPolicy()"
   ]
  },
  {
   "cell_type": "code",
   "execution_count": 102,
   "metadata": {
    "collapsed": true
   },
   "outputs": [
    {
     "ename": "KeyboardInterrupt",
     "evalue": "",
     "output_type": "error",
     "traceback": [
      "\u001b[1;31m---------------------------------------------------------------------------\u001b[0m",
      "\u001b[1;31mKeyboardInterrupt\u001b[0m                         Traceback (most recent call last)",
      "\u001b[1;32m<ipython-input-102-1ac2212be0b8>\u001b[0m in \u001b[0;36m<module>\u001b[1;34m()\u001b[0m\n\u001b[1;32m----> 1\u001b[1;33m \u001b[0mpolicy\u001b[0m \u001b[1;33m=\u001b[0m \u001b[0mDeepQPolicy\u001b[0m\u001b[1;33m(\u001b[0m\u001b[1;33m)\u001b[0m\u001b[1;33m\u001b[0m\u001b[0m\n\u001b[0m",
      "\u001b[1;32m<ipython-input-26-26982fc7ab43>\u001b[0m in \u001b[0;36m__init__\u001b[1;34m(self, n_states, n_actions, width, height, replay_size)\u001b[0m\n\u001b[0;32m     57\u001b[0m         \u001b[0mself\u001b[0m\u001b[1;33m.\u001b[0m\u001b[0mreplay_buffer\u001b[0m \u001b[1;33m=\u001b[0m \u001b[1;33m[\u001b[0m\u001b[1;33m]\u001b[0m\u001b[1;33m\u001b[0m\u001b[0m\n\u001b[0;32m     58\u001b[0m         \u001b[0mself\u001b[0m\u001b[1;33m.\u001b[0m\u001b[0mreplay_size\u001b[0m \u001b[1;33m=\u001b[0m \u001b[0mreplay_size\u001b[0m\u001b[1;33m\u001b[0m\u001b[0m\n\u001b[1;32m---> 59\u001b[1;33m         \u001b[0mself\u001b[0m\u001b[1;33m.\u001b[0m\u001b[0minit_nnet\u001b[0m\u001b[1;33m(\u001b[0m\u001b[0mwidth\u001b[0m\u001b[1;33m,\u001b[0m\u001b[0mheight\u001b[0m\u001b[1;33m)\u001b[0m\u001b[1;33m\u001b[0m\u001b[0m\n\u001b[0m\u001b[0;32m     60\u001b[0m         \u001b[0mself\u001b[0m\u001b[1;33m.\u001b[0m\u001b[0mlast_loss\u001b[0m \u001b[1;33m=\u001b[0m \u001b[0mNone\u001b[0m\u001b[1;33m\u001b[0m\u001b[0m\n\u001b[0;32m     61\u001b[0m \u001b[1;33m\u001b[0m\u001b[0m\n",
      "\u001b[1;32m<ipython-input-26-26982fc7ab43>\u001b[0m in \u001b[0;36minit_nnet\u001b[1;34m(self, w, h)\u001b[0m\n\u001b[0;32m      6\u001b[0m \u001b[1;33m\u001b[0m\u001b[0m\n\u001b[0;32m      7\u001b[0m     \u001b[1;32mdef\u001b[0m \u001b[0minit_nnet\u001b[0m\u001b[1;33m(\u001b[0m\u001b[0mself\u001b[0m\u001b[1;33m,\u001b[0m \u001b[0mw\u001b[0m\u001b[1;33m,\u001b[0m \u001b[0mh\u001b[0m\u001b[1;33m)\u001b[0m\u001b[1;33m:\u001b[0m\u001b[1;33m\u001b[0m\u001b[0m\n\u001b[1;32m----> 8\u001b[1;33m         \u001b[1;32mclass\u001b[0m \u001b[0mnnet\u001b[0m\u001b[1;33m:\u001b[0m\u001b[1;33m\u001b[0m\u001b[0m\n\u001b[0m\u001b[0;32m      9\u001b[0m             \u001b[0mTHINK_TIME\u001b[0m \u001b[1;33m=\u001b[0m \u001b[0mDeepQPolicy\u001b[0m\u001b[1;33m.\u001b[0m\u001b[0mTHINK_TIME\u001b[0m\u001b[1;33m\u001b[0m\u001b[0m\n\u001b[0;32m     10\u001b[0m \u001b[1;33m\u001b[0m\u001b[0m\n",
      "\u001b[1;32m<ipython-input-26-26982fc7ab43>\u001b[0m in \u001b[0;36mnnet\u001b[1;34m()\u001b[0m\n\u001b[0;32m     47\u001b[0m \u001b[1;33m\u001b[0m\u001b[0m\n\u001b[0;32m     48\u001b[0m             fit = theano.function([target_q, field_inp.input_var, action_inp.input_var], loss,\n\u001b[1;32m---> 49\u001b[1;33m                                   updates=updates, allow_input_downcast=True)\n\u001b[0m\u001b[0;32m     50\u001b[0m             \u001b[0mpredict\u001b[0m \u001b[1;33m=\u001b[0m \u001b[0mtheano\u001b[0m\u001b[1;33m.\u001b[0m\u001b[0mfunction\u001b[0m\u001b[1;33m(\u001b[0m\u001b[1;33m[\u001b[0m \u001b[0mfield_inp\u001b[0m\u001b[1;33m.\u001b[0m\u001b[0minput_var\u001b[0m\u001b[1;33m,\u001b[0m \u001b[0maction_inp\u001b[0m\u001b[1;33m.\u001b[0m\u001b[0minput_var\u001b[0m\u001b[1;33m]\u001b[0m\u001b[1;33m,\u001b[0m \u001b[0mresult\u001b[0m\u001b[1;33m,\u001b[0m \u001b[0mallow_input_downcast\u001b[0m\u001b[1;33m=\u001b[0m\u001b[0mTrue\u001b[0m\u001b[1;33m)\u001b[0m\u001b[1;33m\u001b[0m\u001b[0m\n\u001b[0;32m     51\u001b[0m         \u001b[0mself\u001b[0m\u001b[1;33m.\u001b[0m\u001b[0mnnet\u001b[0m \u001b[1;33m=\u001b[0m \u001b[0mnnet\u001b[0m\u001b[1;33m\u001b[0m\u001b[0m\n",
      "\u001b[1;32m/usr/local/lib/python2.7/dist-packages/theano/compile/function.pyc\u001b[0m in \u001b[0;36mfunction\u001b[1;34m(inputs, outputs, mode, updates, givens, no_default_updates, accept_inplace, name, rebuild_strict, allow_input_downcast, profile, on_unused_input)\u001b[0m\n\u001b[0;32m    324\u001b[0m                    \u001b[0mon_unused_input\u001b[0m\u001b[1;33m=\u001b[0m\u001b[0mon_unused_input\u001b[0m\u001b[1;33m,\u001b[0m\u001b[1;33m\u001b[0m\u001b[0m\n\u001b[0;32m    325\u001b[0m                    \u001b[0mprofile\u001b[0m\u001b[1;33m=\u001b[0m\u001b[0mprofile\u001b[0m\u001b[1;33m,\u001b[0m\u001b[1;33m\u001b[0m\u001b[0m\n\u001b[1;32m--> 326\u001b[1;33m                    output_keys=output_keys)\n\u001b[0m\u001b[0;32m    327\u001b[0m     \u001b[1;31m# We need to add the flag check_aliased inputs if we have any mutable or\u001b[0m\u001b[1;33m\u001b[0m\u001b[1;33m\u001b[0m\u001b[0m\n\u001b[0;32m    328\u001b[0m     \u001b[1;31m# borrowed used defined inputs\u001b[0m\u001b[1;33m\u001b[0m\u001b[1;33m\u001b[0m\u001b[0m\n",
      "\u001b[1;32m/usr/local/lib/python2.7/dist-packages/theano/compile/pfunc.pyc\u001b[0m in \u001b[0;36mpfunc\u001b[1;34m(params, outputs, mode, updates, givens, no_default_updates, accept_inplace, name, rebuild_strict, allow_input_downcast, profile, on_unused_input, output_keys)\u001b[0m\n\u001b[0;32m    484\u001b[0m                          \u001b[0maccept_inplace\u001b[0m\u001b[1;33m=\u001b[0m\u001b[0maccept_inplace\u001b[0m\u001b[1;33m,\u001b[0m \u001b[0mname\u001b[0m\u001b[1;33m=\u001b[0m\u001b[0mname\u001b[0m\u001b[1;33m,\u001b[0m\u001b[1;33m\u001b[0m\u001b[0m\n\u001b[0;32m    485\u001b[0m                          \u001b[0mprofile\u001b[0m\u001b[1;33m=\u001b[0m\u001b[0mprofile\u001b[0m\u001b[1;33m,\u001b[0m \u001b[0mon_unused_input\u001b[0m\u001b[1;33m=\u001b[0m\u001b[0mon_unused_input\u001b[0m\u001b[1;33m,\u001b[0m\u001b[1;33m\u001b[0m\u001b[0m\n\u001b[1;32m--> 486\u001b[1;33m                          output_keys=output_keys)\n\u001b[0m\u001b[0;32m    487\u001b[0m \u001b[1;33m\u001b[0m\u001b[0m\n\u001b[0;32m    488\u001b[0m \u001b[1;33m\u001b[0m\u001b[0m\n",
      "\u001b[1;32m/usr/local/lib/python2.7/dist-packages/theano/compile/function_module.pyc\u001b[0m in \u001b[0;36morig_function\u001b[1;34m(inputs, outputs, mode, accept_inplace, name, profile, on_unused_input, output_keys)\u001b[0m\n\u001b[0;32m   1807\u001b[0m                    \u001b[0mon_unused_input\u001b[0m\u001b[1;33m=\u001b[0m\u001b[0mon_unused_input\u001b[0m\u001b[1;33m,\u001b[0m\u001b[1;33m\u001b[0m\u001b[0m\n\u001b[0;32m   1808\u001b[0m                    \u001b[0moutput_keys\u001b[0m\u001b[1;33m=\u001b[0m\u001b[0moutput_keys\u001b[0m\u001b[1;33m)\u001b[0m\u001b[1;33m.\u001b[0m\u001b[0mcreate\u001b[0m\u001b[1;33m(\u001b[0m\u001b[1;33m\u001b[0m\u001b[0m\n\u001b[1;32m-> 1809\u001b[1;33m             defaults)\n\u001b[0m\u001b[0;32m   1810\u001b[0m     \u001b[1;32mfinally\u001b[0m\u001b[1;33m:\u001b[0m\u001b[1;33m\u001b[0m\u001b[0m\n\u001b[0;32m   1811\u001b[0m         \u001b[0mt2\u001b[0m \u001b[1;33m=\u001b[0m \u001b[0mtime\u001b[0m\u001b[1;33m.\u001b[0m\u001b[0mtime\u001b[0m\u001b[1;33m(\u001b[0m\u001b[1;33m)\u001b[0m\u001b[1;33m\u001b[0m\u001b[0m\n",
      "\u001b[1;32m/usr/local/lib/python2.7/dist-packages/theano/compile/function_module.pyc\u001b[0m in \u001b[0;36mcreate\u001b[1;34m(self, input_storage, trustme, storage_map)\u001b[0m\n\u001b[0;32m   1672\u001b[0m             \u001b[0mtheano\u001b[0m\u001b[1;33m.\u001b[0m\u001b[0mconfig\u001b[0m\u001b[1;33m.\u001b[0m\u001b[0mtraceback\u001b[0m\u001b[1;33m.\u001b[0m\u001b[0mlimit\u001b[0m \u001b[1;33m=\u001b[0m \u001b[0mtheano\u001b[0m\u001b[1;33m.\u001b[0m\u001b[0mconfig\u001b[0m\u001b[1;33m.\u001b[0m\u001b[0mtraceback\u001b[0m\u001b[1;33m.\u001b[0m\u001b[0mcompile_limit\u001b[0m\u001b[1;33m\u001b[0m\u001b[0m\n\u001b[0;32m   1673\u001b[0m             _fn, _i, _o = self.linker.make_thunk(\n\u001b[1;32m-> 1674\u001b[1;33m                 input_storage=input_storage_lists, storage_map=storage_map)\n\u001b[0m\u001b[0;32m   1675\u001b[0m         \u001b[1;32mfinally\u001b[0m\u001b[1;33m:\u001b[0m\u001b[1;33m\u001b[0m\u001b[0m\n\u001b[0;32m   1676\u001b[0m             \u001b[0mtheano\u001b[0m\u001b[1;33m.\u001b[0m\u001b[0mconfig\u001b[0m\u001b[1;33m.\u001b[0m\u001b[0mtraceback\u001b[0m\u001b[1;33m.\u001b[0m\u001b[0mlimit\u001b[0m \u001b[1;33m=\u001b[0m \u001b[0mlimit_orig\u001b[0m\u001b[1;33m\u001b[0m\u001b[0m\n",
      "\u001b[1;32m/usr/local/lib/python2.7/dist-packages/theano/gof/link.pyc\u001b[0m in \u001b[0;36mmake_thunk\u001b[1;34m(self, input_storage, output_storage, storage_map)\u001b[0m\n\u001b[0;32m    697\u001b[0m         return self.make_all(input_storage=input_storage,\n\u001b[0;32m    698\u001b[0m                              \u001b[0moutput_storage\u001b[0m\u001b[1;33m=\u001b[0m\u001b[0moutput_storage\u001b[0m\u001b[1;33m,\u001b[0m\u001b[1;33m\u001b[0m\u001b[0m\n\u001b[1;32m--> 699\u001b[1;33m                              storage_map=storage_map)[:3]\n\u001b[0m\u001b[0;32m    700\u001b[0m \u001b[1;33m\u001b[0m\u001b[0m\n\u001b[0;32m    701\u001b[0m     \u001b[1;32mdef\u001b[0m \u001b[0mmake_all\u001b[0m\u001b[1;33m(\u001b[0m\u001b[0mself\u001b[0m\u001b[1;33m,\u001b[0m \u001b[0minput_storage\u001b[0m\u001b[1;33m,\u001b[0m \u001b[0moutput_storage\u001b[0m\u001b[1;33m)\u001b[0m\u001b[1;33m:\u001b[0m\u001b[1;33m\u001b[0m\u001b[0m\n",
      "\u001b[1;32m/usr/local/lib/python2.7/dist-packages/theano/gof/vm.pyc\u001b[0m in \u001b[0;36mmake_all\u001b[1;34m(self, profiler, input_storage, output_storage, storage_map)\u001b[0m\n\u001b[0;32m   1053\u001b[0m                                                  \u001b[0mcompute_map\u001b[0m\u001b[1;33m,\u001b[0m\u001b[1;33m\u001b[0m\u001b[0m\n\u001b[0;32m   1054\u001b[0m                                                  \u001b[0mno_recycling\u001b[0m\u001b[1;33m,\u001b[0m\u001b[1;33m\u001b[0m\u001b[0m\n\u001b[1;32m-> 1055\u001b[1;33m                                                  impl=impl))\n\u001b[0m\u001b[0;32m   1056\u001b[0m                 \u001b[0mlinker_make_thunk_time\u001b[0m\u001b[1;33m[\u001b[0m\u001b[0mnode\u001b[0m\u001b[1;33m]\u001b[0m \u001b[1;33m=\u001b[0m \u001b[0mtime\u001b[0m\u001b[1;33m.\u001b[0m\u001b[0mtime\u001b[0m\u001b[1;33m(\u001b[0m\u001b[1;33m)\u001b[0m \u001b[1;33m-\u001b[0m \u001b[0mthunk_start\u001b[0m\u001b[1;33m\u001b[0m\u001b[0m\n\u001b[0;32m   1057\u001b[0m                 \u001b[1;32mif\u001b[0m \u001b[1;32mnot\u001b[0m \u001b[0mhasattr\u001b[0m\u001b[1;33m(\u001b[0m\u001b[0mthunks\u001b[0m\u001b[1;33m[\u001b[0m\u001b[1;33m-\u001b[0m\u001b[1;36m1\u001b[0m\u001b[1;33m]\u001b[0m\u001b[1;33m,\u001b[0m \u001b[1;34m'lazy'\u001b[0m\u001b[1;33m)\u001b[0m\u001b[1;33m:\u001b[0m\u001b[1;33m\u001b[0m\u001b[0m\n",
      "\u001b[1;32m/usr/local/lib/python2.7/dist-packages/theano/gof/op.pyc\u001b[0m in \u001b[0;36mmake_thunk\u001b[1;34m(self, node, storage_map, compute_map, no_recycling, impl)\u001b[0m\n\u001b[0;32m    949\u001b[0m             \u001b[1;32mtry\u001b[0m\u001b[1;33m:\u001b[0m\u001b[1;33m\u001b[0m\u001b[0m\n\u001b[0;32m    950\u001b[0m                 return self.make_c_thunk(node, storage_map, compute_map,\n\u001b[1;32m--> 951\u001b[1;33m                                          no_recycling)\n\u001b[0m\u001b[0;32m    952\u001b[0m             \u001b[1;32mexcept\u001b[0m \u001b[1;33m(\u001b[0m\u001b[0mNotImplementedError\u001b[0m\u001b[1;33m,\u001b[0m \u001b[0mutils\u001b[0m\u001b[1;33m.\u001b[0m\u001b[0mMethodNotDefined\u001b[0m\u001b[1;33m)\u001b[0m\u001b[1;33m:\u001b[0m\u001b[1;33m\u001b[0m\u001b[0m\n\u001b[0;32m    953\u001b[0m                 \u001b[1;31m# We requested the c code, so don't catch the error.\u001b[0m\u001b[1;33m\u001b[0m\u001b[1;33m\u001b[0m\u001b[0m\n",
      "\u001b[1;32m/usr/local/lib/python2.7/dist-packages/theano/gof/op.pyc\u001b[0m in \u001b[0;36mmake_c_thunk\u001b[1;34m(self, node, storage_map, compute_map, no_recycling)\u001b[0m\n\u001b[0;32m    853\u001b[0m         \u001b[0m_logger\u001b[0m\u001b[1;33m.\u001b[0m\u001b[0mdebug\u001b[0m\u001b[1;33m(\u001b[0m\u001b[1;34m'Trying CLinker.make_thunk'\u001b[0m\u001b[1;33m)\u001b[0m\u001b[1;33m\u001b[0m\u001b[0m\n\u001b[0;32m    854\u001b[0m         outputs = cl.make_thunk(input_storage=node_input_storage,\n\u001b[1;32m--> 855\u001b[1;33m                                 output_storage=node_output_storage)\n\u001b[0m\u001b[0;32m    856\u001b[0m         \u001b[0mfill_storage\u001b[0m\u001b[1;33m,\u001b[0m \u001b[0mnode_input_filters\u001b[0m\u001b[1;33m,\u001b[0m \u001b[0mnode_output_filters\u001b[0m \u001b[1;33m=\u001b[0m \u001b[0moutputs\u001b[0m\u001b[1;33m\u001b[0m\u001b[0m\n\u001b[0;32m    857\u001b[0m \u001b[1;33m\u001b[0m\u001b[0m\n",
      "\u001b[1;32m/usr/local/lib/python2.7/dist-packages/theano/gof/cc.pyc\u001b[0m in \u001b[0;36mmake_thunk\u001b[1;34m(self, input_storage, output_storage, storage_map, keep_lock)\u001b[0m\n\u001b[0;32m   1188\u001b[0m         cthunk, in_storage, out_storage, error_storage = self.__compile__(\n\u001b[0;32m   1189\u001b[0m             \u001b[0minput_storage\u001b[0m\u001b[1;33m,\u001b[0m \u001b[0moutput_storage\u001b[0m\u001b[1;33m,\u001b[0m \u001b[0mstorage_map\u001b[0m\u001b[1;33m,\u001b[0m\u001b[1;33m\u001b[0m\u001b[0m\n\u001b[1;32m-> 1190\u001b[1;33m             keep_lock=keep_lock)\n\u001b[0m\u001b[0;32m   1191\u001b[0m \u001b[1;33m\u001b[0m\u001b[0m\n\u001b[0;32m   1192\u001b[0m         \u001b[0mres\u001b[0m \u001b[1;33m=\u001b[0m \u001b[0m_CThunk\u001b[0m\u001b[1;33m(\u001b[0m\u001b[0mcthunk\u001b[0m\u001b[1;33m,\u001b[0m \u001b[0minit_tasks\u001b[0m\u001b[1;33m,\u001b[0m \u001b[0mtasks\u001b[0m\u001b[1;33m,\u001b[0m \u001b[0merror_storage\u001b[0m\u001b[1;33m)\u001b[0m\u001b[1;33m\u001b[0m\u001b[0m\n",
      "\u001b[1;32m/usr/local/lib/python2.7/dist-packages/theano/gof/cc.pyc\u001b[0m in \u001b[0;36m__compile__\u001b[1;34m(self, input_storage, output_storage, storage_map, keep_lock)\u001b[0m\n\u001b[0;32m   1129\u001b[0m                                     \u001b[0moutput_storage\u001b[0m\u001b[1;33m,\u001b[0m\u001b[1;33m\u001b[0m\u001b[0m\n\u001b[0;32m   1130\u001b[0m                                     \u001b[0mstorage_map\u001b[0m\u001b[1;33m,\u001b[0m\u001b[1;33m\u001b[0m\u001b[0m\n\u001b[1;32m-> 1131\u001b[1;33m                                     keep_lock=keep_lock)\n\u001b[0m\u001b[0;32m   1132\u001b[0m         return (thunk,\n\u001b[0;32m   1133\u001b[0m                 [link.Container(input, storage) for input, storage in\n",
      "\u001b[1;32m/usr/local/lib/python2.7/dist-packages/theano/gof/cc.pyc\u001b[0m in \u001b[0;36mcthunk_factory\u001b[1;34m(self, error_storage, in_storage, out_storage, storage_map, keep_lock)\u001b[0m\n\u001b[0;32m   1573\u001b[0m         \"\"\"\n\u001b[0;32m   1574\u001b[0m         \u001b[1;32mtry\u001b[0m\u001b[1;33m:\u001b[0m\u001b[1;33m\u001b[0m\u001b[0m\n\u001b[1;32m-> 1575\u001b[1;33m             \u001b[0mkey\u001b[0m \u001b[1;33m=\u001b[0m \u001b[0mself\u001b[0m\u001b[1;33m.\u001b[0m\u001b[0mcmodule_key\u001b[0m\u001b[1;33m(\u001b[0m\u001b[1;33m)\u001b[0m\u001b[1;33m\u001b[0m\u001b[0m\n\u001b[0m\u001b[0;32m   1576\u001b[0m         \u001b[1;32mexcept\u001b[0m \u001b[0mKeyError\u001b[0m\u001b[1;33m:\u001b[0m\u001b[1;33m\u001b[0m\u001b[0m\n\u001b[0;32m   1577\u001b[0m             \u001b[0mkey\u001b[0m \u001b[1;33m=\u001b[0m \u001b[0mNone\u001b[0m\u001b[1;33m\u001b[0m\u001b[0m\n",
      "\u001b[1;32m/usr/local/lib/python2.7/dist-packages/theano/gof/cc.pyc\u001b[0m in \u001b[0;36mcmodule_key\u001b[1;34m(self)\u001b[0m\n\u001b[0;32m   1269\u001b[0m                                  \u001b[0mlibraries\u001b[0m\u001b[1;33m=\u001b[0m\u001b[0mself\u001b[0m\u001b[1;33m.\u001b[0m\u001b[0mlibraries\u001b[0m\u001b[1;33m(\u001b[0m\u001b[1;33m)\u001b[0m\u001b[1;33m,\u001b[0m\u001b[1;33m\u001b[0m\u001b[0m\n\u001b[0;32m   1270\u001b[0m                                  \u001b[0mheader_dirs\u001b[0m\u001b[1;33m=\u001b[0m\u001b[0mself\u001b[0m\u001b[1;33m.\u001b[0m\u001b[0mheader_dirs\u001b[0m\u001b[1;33m(\u001b[0m\u001b[1;33m)\u001b[0m\u001b[1;33m,\u001b[0m\u001b[1;33m\u001b[0m\u001b[0m\n\u001b[1;32m-> 1271\u001b[1;33m                                  \u001b[0mc_compiler\u001b[0m\u001b[1;33m=\u001b[0m\u001b[0mself\u001b[0m\u001b[1;33m.\u001b[0m\u001b[0mc_compiler\u001b[0m\u001b[1;33m(\u001b[0m\u001b[1;33m)\u001b[0m\u001b[1;33m,\u001b[0m\u001b[1;33m\u001b[0m\u001b[0m\n\u001b[0m\u001b[0;32m   1272\u001b[0m                                  )\n\u001b[0;32m   1273\u001b[0m \u001b[1;33m\u001b[0m\u001b[0m\n",
      "\u001b[1;32m/usr/local/lib/python2.7/dist-packages/theano/gof/cc.pyc\u001b[0m in \u001b[0;36mcmodule_key_\u001b[1;34m(self, fgraph, no_recycling, compile_args, libraries, header_dirs, insert_config_md5, c_compiler)\u001b[0m\n\u001b[0;32m   1414\u001b[0m         \u001b[1;32mfor\u001b[0m \u001b[0mnode_pos\u001b[0m\u001b[1;33m,\u001b[0m \u001b[0mnode\u001b[0m \u001b[1;32min\u001b[0m \u001b[0menumerate\u001b[0m\u001b[1;33m(\u001b[0m\u001b[0morder\u001b[0m\u001b[1;33m)\u001b[0m\u001b[1;33m:\u001b[0m\u001b[1;33m\u001b[0m\u001b[0m\n\u001b[0;32m   1415\u001b[0m             \u001b[1;32mif\u001b[0m \u001b[0mhasattr\u001b[0m\u001b[1;33m(\u001b[0m\u001b[0mnode\u001b[0m\u001b[1;33m.\u001b[0m\u001b[0mop\u001b[0m\u001b[1;33m,\u001b[0m \u001b[1;34m'c_code_cache_version_apply'\u001b[0m\u001b[1;33m)\u001b[0m\u001b[1;33m:\u001b[0m\u001b[1;33m\u001b[0m\u001b[0m\n\u001b[1;32m-> 1416\u001b[1;33m                 \u001b[0mversion\u001b[0m\u001b[1;33m.\u001b[0m\u001b[0mappend\u001b[0m\u001b[1;33m(\u001b[0m\u001b[0mnode\u001b[0m\u001b[1;33m.\u001b[0m\u001b[0mop\u001b[0m\u001b[1;33m.\u001b[0m\u001b[0mc_code_cache_version_apply\u001b[0m\u001b[1;33m(\u001b[0m\u001b[0mnode\u001b[0m\u001b[1;33m)\u001b[0m\u001b[1;33m)\u001b[0m\u001b[1;33m\u001b[0m\u001b[0m\n\u001b[0m\u001b[0;32m   1417\u001b[0m             \u001b[1;32mfor\u001b[0m \u001b[0mi\u001b[0m \u001b[1;32min\u001b[0m \u001b[0mnode\u001b[0m\u001b[1;33m.\u001b[0m\u001b[0minputs\u001b[0m\u001b[1;33m:\u001b[0m\u001b[1;33m\u001b[0m\u001b[0m\n\u001b[0;32m   1418\u001b[0m                 \u001b[0mversion\u001b[0m\u001b[1;33m.\u001b[0m\u001b[0mappend\u001b[0m\u001b[1;33m(\u001b[0m\u001b[0mi\u001b[0m\u001b[1;33m.\u001b[0m\u001b[0mtype\u001b[0m\u001b[1;33m.\u001b[0m\u001b[0mc_code_cache_version\u001b[0m\u001b[1;33m(\u001b[0m\u001b[1;33m)\u001b[0m\u001b[1;33m)\u001b[0m\u001b[1;33m\u001b[0m\u001b[0m\n",
      "\u001b[1;32m/usr/local/lib/python2.7/dist-packages/theano/gof/op.pyc\u001b[0m in \u001b[0;36mc_code_cache_version_apply\u001b[1;34m(self, node)\u001b[0m\n\u001b[0;32m    324\u001b[0m \u001b[1;33m\u001b[0m\u001b[0m\n\u001b[0;32m    325\u001b[0m         \"\"\"\n\u001b[1;32m--> 326\u001b[1;33m         \u001b[1;32mreturn\u001b[0m \u001b[0mself\u001b[0m\u001b[1;33m.\u001b[0m\u001b[0mc_code_cache_version\u001b[0m\u001b[1;33m(\u001b[0m\u001b[1;33m)\u001b[0m\u001b[1;33m\u001b[0m\u001b[0m\n\u001b[0m\u001b[0;32m    327\u001b[0m \u001b[1;33m\u001b[0m\u001b[0m\n\u001b[0;32m    328\u001b[0m     \u001b[1;32mdef\u001b[0m \u001b[0mc_code_cleanup\u001b[0m\u001b[1;33m(\u001b[0m\u001b[0mself\u001b[0m\u001b[1;33m,\u001b[0m \u001b[0mnode\u001b[0m\u001b[1;33m,\u001b[0m \u001b[0mname\u001b[0m\u001b[1;33m,\u001b[0m \u001b[0minputs\u001b[0m\u001b[1;33m,\u001b[0m \u001b[0moutputs\u001b[0m\u001b[1;33m,\u001b[0m \u001b[0msub\u001b[0m\u001b[1;33m)\u001b[0m\u001b[1;33m:\u001b[0m\u001b[1;33m\u001b[0m\u001b[0m\n",
      "\u001b[1;32m/usr/local/lib/python2.7/dist-packages/theano/tensor/blas_c.pyc\u001b[0m in \u001b[0;36mc_code_cache_version\u001b[1;34m(self)\u001b[0m\n\u001b[0;32m    609\u001b[0m \u001b[1;33m\u001b[0m\u001b[0m\n\u001b[0;32m    610\u001b[0m     \u001b[1;32mdef\u001b[0m \u001b[0mc_code_cache_version\u001b[0m\u001b[1;33m(\u001b[0m\u001b[0mself\u001b[0m\u001b[1;33m)\u001b[0m\u001b[1;33m:\u001b[0m\u001b[1;33m\u001b[0m\u001b[0m\n\u001b[1;32m--> 611\u001b[1;33m         \u001b[1;32mreturn\u001b[0m \u001b[1;33m(\u001b[0m\u001b[1;36m13\u001b[0m\u001b[1;33m,\u001b[0m \u001b[0mblas_header_version\u001b[0m\u001b[1;33m(\u001b[0m\u001b[1;33m)\u001b[0m\u001b[1;33m,\u001b[0m \u001b[0mcheck_force_gemv_init\u001b[0m\u001b[1;33m(\u001b[0m\u001b[1;33m)\u001b[0m\u001b[1;33m)\u001b[0m\u001b[1;33m\u001b[0m\u001b[0m\n\u001b[0m\u001b[0;32m    612\u001b[0m \u001b[1;33m\u001b[0m\u001b[0m\n\u001b[0;32m    613\u001b[0m \u001b[0mcgemv_inplace\u001b[0m \u001b[1;33m=\u001b[0m \u001b[0mCGemv\u001b[0m\u001b[1;33m(\u001b[0m\u001b[0minplace\u001b[0m\u001b[1;33m=\u001b[0m\u001b[0mTrue\u001b[0m\u001b[1;33m)\u001b[0m\u001b[1;33m\u001b[0m\u001b[0m\n",
      "\u001b[1;32m/usr/local/lib/python2.7/dist-packages/theano/tensor/blas_c.pyc\u001b[0m in \u001b[0;36mcheck_force_gemv_init\u001b[1;34m()\u001b[0m\n\u001b[0;32m    656\u001b[0m                                            flags=ldflags(libs=True, flags=True,\n\u001b[0;32m    657\u001b[0m                                                          libs_dir=True),\n\u001b[1;32m--> 658\u001b[1;33m                                            try_run=True)\n\u001b[0m\u001b[0;32m    659\u001b[0m         \u001b[1;32mif\u001b[0m \u001b[0mres\u001b[0m\u001b[1;33m:\u001b[0m\u001b[1;33m\u001b[0m\u001b[0m\n\u001b[0;32m    660\u001b[0m             \u001b[1;32mif\u001b[0m \u001b[0mres\u001b[0m\u001b[1;33m[\u001b[0m\u001b[1;36m0\u001b[0m\u001b[1;33m]\u001b[0m\u001b[1;33m:\u001b[0m\u001b[1;33m\u001b[0m\u001b[0m\n",
      "\u001b[1;32m/usr/local/lib/python2.7/dist-packages/theano/gof/cmodule.pyc\u001b[0m in \u001b[0;36mtry_compile_tmp\u001b[1;34m(cls, src_code, tmp_prefix, flags, try_run, output, comp_args)\u001b[0m\n\u001b[0;32m   2179\u001b[0m         return cls._try_compile_tmp(src_code, tmp_prefix, flags,\n\u001b[0;32m   2180\u001b[0m                                     \u001b[0mtry_run\u001b[0m\u001b[1;33m,\u001b[0m \u001b[0moutput\u001b[0m\u001b[1;33m,\u001b[0m \u001b[0mtheano\u001b[0m\u001b[1;33m.\u001b[0m\u001b[0mconfig\u001b[0m\u001b[1;33m.\u001b[0m\u001b[0mcxx\u001b[0m\u001b[1;33m,\u001b[0m\u001b[1;33m\u001b[0m\u001b[0m\n\u001b[1;32m-> 2181\u001b[1;33m                                     comp_args)\n\u001b[0m\u001b[0;32m   2182\u001b[0m \u001b[1;33m\u001b[0m\u001b[0m\n\u001b[0;32m   2183\u001b[0m     \u001b[1;33m@\u001b[0m\u001b[0mclassmethod\u001b[0m\u001b[1;33m\u001b[0m\u001b[0m\n",
      "\u001b[1;32m/usr/local/lib/python2.7/dist-packages/theano/gof/cmodule.pyc\u001b[0m in \u001b[0;36m_try_compile_tmp\u001b[1;34m(cls, src_code, tmp_prefix, flags, try_run, output, compiler, comp_args)\u001b[0m\n\u001b[0;32m   1779\u001b[0m                 \u001b[0mfd\u001b[0m \u001b[1;33m=\u001b[0m \u001b[0mNone\u001b[0m\u001b[1;33m\u001b[0m\u001b[0m\n\u001b[0;32m   1780\u001b[0m                 out, err, p_ret = output_subprocess_Popen(\n\u001b[1;32m-> 1781\u001b[1;33m                     [compiler] + args + [path, '-o', exe_path] + flags)\n\u001b[0m\u001b[0;32m   1782\u001b[0m                 \u001b[1;32mif\u001b[0m \u001b[0mp_ret\u001b[0m \u001b[1;33m!=\u001b[0m \u001b[1;36m0\u001b[0m\u001b[1;33m:\u001b[0m\u001b[1;33m\u001b[0m\u001b[0m\n\u001b[0;32m   1783\u001b[0m                     \u001b[0mcompilation_ok\u001b[0m \u001b[1;33m=\u001b[0m \u001b[0mFalse\u001b[0m\u001b[1;33m\u001b[0m\u001b[0m\n",
      "\u001b[1;32m/usr/local/lib/python2.7/dist-packages/theano/misc/windows.pyc\u001b[0m in \u001b[0;36moutput_subprocess_Popen\u001b[1;34m(command, **params)\u001b[0m\n\u001b[0;32m     75\u001b[0m     \u001b[0mparams\u001b[0m\u001b[1;33m[\u001b[0m\u001b[1;34m'stdout'\u001b[0m\u001b[1;33m]\u001b[0m \u001b[1;33m=\u001b[0m \u001b[0msubprocess\u001b[0m\u001b[1;33m.\u001b[0m\u001b[0mPIPE\u001b[0m\u001b[1;33m\u001b[0m\u001b[0m\n\u001b[0;32m     76\u001b[0m     \u001b[0mparams\u001b[0m\u001b[1;33m[\u001b[0m\u001b[1;34m'stderr'\u001b[0m\u001b[1;33m]\u001b[0m \u001b[1;33m=\u001b[0m \u001b[0msubprocess\u001b[0m\u001b[1;33m.\u001b[0m\u001b[0mPIPE\u001b[0m\u001b[1;33m\u001b[0m\u001b[0m\n\u001b[1;32m---> 77\u001b[1;33m     \u001b[0mp\u001b[0m \u001b[1;33m=\u001b[0m \u001b[0msubprocess_Popen\u001b[0m\u001b[1;33m(\u001b[0m\u001b[0mcommand\u001b[0m\u001b[1;33m,\u001b[0m \u001b[1;33m**\u001b[0m\u001b[0mparams\u001b[0m\u001b[1;33m)\u001b[0m\u001b[1;33m\u001b[0m\u001b[0m\n\u001b[0m\u001b[0;32m     78\u001b[0m     \u001b[1;31m# we need to use communicate to make sure we don't deadlock around\u001b[0m\u001b[1;33m\u001b[0m\u001b[1;33m\u001b[0m\u001b[0m\n\u001b[0;32m     79\u001b[0m     \u001b[1;31m# the stdout/stderr pipe.\u001b[0m\u001b[1;33m\u001b[0m\u001b[1;33m\u001b[0m\u001b[0m\n",
      "\u001b[1;32m/usr/local/lib/python2.7/dist-packages/theano/misc/windows.pyc\u001b[0m in \u001b[0;36msubprocess_Popen\u001b[1;34m(command, **params)\u001b[0m\n\u001b[0;32m     41\u001b[0m \u001b[1;33m\u001b[0m\u001b[0m\n\u001b[0;32m     42\u001b[0m     \u001b[1;32mtry\u001b[0m\u001b[1;33m:\u001b[0m\u001b[1;33m\u001b[0m\u001b[0m\n\u001b[1;32m---> 43\u001b[1;33m         \u001b[0mproc\u001b[0m \u001b[1;33m=\u001b[0m \u001b[0msubprocess\u001b[0m\u001b[1;33m.\u001b[0m\u001b[0mPopen\u001b[0m\u001b[1;33m(\u001b[0m\u001b[0mcommand\u001b[0m\u001b[1;33m,\u001b[0m \u001b[0mstartupinfo\u001b[0m\u001b[1;33m=\u001b[0m\u001b[0mstartupinfo\u001b[0m\u001b[1;33m,\u001b[0m \u001b[1;33m**\u001b[0m\u001b[0mparams\u001b[0m\u001b[1;33m)\u001b[0m\u001b[1;33m\u001b[0m\u001b[0m\n\u001b[0m\u001b[0;32m     44\u001b[0m     \u001b[1;32mfinally\u001b[0m\u001b[1;33m:\u001b[0m\u001b[1;33m\u001b[0m\u001b[0m\n\u001b[0;32m     45\u001b[0m         \u001b[1;32mif\u001b[0m \u001b[0mstdin\u001b[0m \u001b[1;32mis\u001b[0m \u001b[1;32mnot\u001b[0m \u001b[0mNone\u001b[0m\u001b[1;33m:\u001b[0m\u001b[1;33m\u001b[0m\u001b[0m\n",
      "\u001b[1;32m/usr/lib/python2.7/subprocess.pyc\u001b[0m in \u001b[0;36m__init__\u001b[1;34m(self, args, bufsize, executable, stdin, stdout, stderr, preexec_fn, close_fds, shell, cwd, env, universal_newlines, startupinfo, creationflags)\u001b[0m\n\u001b[0;32m    709\u001b[0m                                 \u001b[0mp2cread\u001b[0m\u001b[1;33m,\u001b[0m \u001b[0mp2cwrite\u001b[0m\u001b[1;33m,\u001b[0m\u001b[1;33m\u001b[0m\u001b[0m\n\u001b[0;32m    710\u001b[0m                                 \u001b[0mc2pread\u001b[0m\u001b[1;33m,\u001b[0m \u001b[0mc2pwrite\u001b[0m\u001b[1;33m,\u001b[0m\u001b[1;33m\u001b[0m\u001b[0m\n\u001b[1;32m--> 711\u001b[1;33m                                 errread, errwrite)\n\u001b[0m\u001b[0;32m    712\u001b[0m         \u001b[1;32mexcept\u001b[0m \u001b[0mException\u001b[0m\u001b[1;33m:\u001b[0m\u001b[1;33m\u001b[0m\u001b[0m\n\u001b[0;32m    713\u001b[0m             \u001b[1;31m# Preserve original exception in case os.close raises.\u001b[0m\u001b[1;33m\u001b[0m\u001b[1;33m\u001b[0m\u001b[0m\n",
      "\u001b[1;32m/usr/lib/python2.7/subprocess.pyc\u001b[0m in \u001b[0;36m_execute_child\u001b[1;34m(self, args, executable, preexec_fn, close_fds, cwd, env, universal_newlines, startupinfo, creationflags, shell, to_close, p2cread, p2cwrite, c2pread, c2pwrite, errread, errwrite)\u001b[0m\n\u001b[0;32m   1317\u001b[0m \u001b[1;33m\u001b[0m\u001b[0m\n\u001b[0;32m   1318\u001b[0m                 \u001b[1;31m# Wait for exec to fail or succeed; possibly raising exception\u001b[0m\u001b[1;33m\u001b[0m\u001b[1;33m\u001b[0m\u001b[0m\n\u001b[1;32m-> 1319\u001b[1;33m                 \u001b[0mdata\u001b[0m \u001b[1;33m=\u001b[0m \u001b[0m_eintr_retry_call\u001b[0m\u001b[1;33m(\u001b[0m\u001b[0mos\u001b[0m\u001b[1;33m.\u001b[0m\u001b[0mread\u001b[0m\u001b[1;33m,\u001b[0m \u001b[0merrpipe_read\u001b[0m\u001b[1;33m,\u001b[0m \u001b[1;36m1048576\u001b[0m\u001b[1;33m)\u001b[0m\u001b[1;33m\u001b[0m\u001b[0m\n\u001b[0m\u001b[0;32m   1320\u001b[0m                 \u001b[0mpickle_bits\u001b[0m \u001b[1;33m=\u001b[0m \u001b[1;33m[\u001b[0m\u001b[1;33m]\u001b[0m\u001b[1;33m\u001b[0m\u001b[0m\n\u001b[0;32m   1321\u001b[0m                 \u001b[1;32mwhile\u001b[0m \u001b[0mdata\u001b[0m\u001b[1;33m:\u001b[0m\u001b[1;33m\u001b[0m\u001b[0m\n",
      "\u001b[1;32m/usr/lib/python2.7/subprocess.pyc\u001b[0m in \u001b[0;36m_eintr_retry_call\u001b[1;34m(func, *args)\u001b[0m\n\u001b[0;32m    474\u001b[0m     \u001b[1;32mwhile\u001b[0m \u001b[0mTrue\u001b[0m\u001b[1;33m:\u001b[0m\u001b[1;33m\u001b[0m\u001b[0m\n\u001b[0;32m    475\u001b[0m         \u001b[1;32mtry\u001b[0m\u001b[1;33m:\u001b[0m\u001b[1;33m\u001b[0m\u001b[0m\n\u001b[1;32m--> 476\u001b[1;33m             \u001b[1;32mreturn\u001b[0m \u001b[0mfunc\u001b[0m\u001b[1;33m(\u001b[0m\u001b[1;33m*\u001b[0m\u001b[0margs\u001b[0m\u001b[1;33m)\u001b[0m\u001b[1;33m\u001b[0m\u001b[0m\n\u001b[0m\u001b[0;32m    477\u001b[0m         \u001b[1;32mexcept\u001b[0m \u001b[1;33m(\u001b[0m\u001b[0mOSError\u001b[0m\u001b[1;33m,\u001b[0m \u001b[0mIOError\u001b[0m\u001b[1;33m)\u001b[0m \u001b[1;32mas\u001b[0m \u001b[0me\u001b[0m\u001b[1;33m:\u001b[0m\u001b[1;33m\u001b[0m\u001b[0m\n\u001b[0;32m    478\u001b[0m             \u001b[1;32mif\u001b[0m \u001b[0me\u001b[0m\u001b[1;33m.\u001b[0m\u001b[0merrno\u001b[0m \u001b[1;33m==\u001b[0m \u001b[0merrno\u001b[0m\u001b[1;33m.\u001b[0m\u001b[0mEINTR\u001b[0m\u001b[1;33m:\u001b[0m\u001b[1;33m\u001b[0m\u001b[0m\n",
      "\u001b[1;31mKeyboardInterrupt\u001b[0m: "
     ]
    }
   ],
   "source": [
    "policy = DeepQPolicy()"
   ]
  },
  {
   "cell_type": "code",
   "execution_count": 440,
   "metadata": {
    "collapsed": false,
    "scrolled": true
   },
   "outputs": [
    {
     "data": {
      "text/plain": [
       "[(1, -1.0),\n",
       " (1, -1.0),\n",
       " (1, -1.0),\n",
       " (1, -1.0),\n",
       " (1, -1.0),\n",
       " (1, -1.0),\n",
       " (1, -1.0),\n",
       " (1, -1.0),\n",
       " (1, -1.0),\n",
       " (1, -1.0),\n",
       " (1, -1.0),\n",
       " (1, -1.0),\n",
       " (1, -1.0),\n",
       " (1, -1.0),\n",
       " (1, -1.0),\n",
       " (1, -1.0),\n",
       " (1, -1.0),\n",
       " (1, -1.0),\n",
       " (1, -1.0),\n",
       " (1, -1.0),\n",
       " (1, -1.0),\n",
       " (1, -1.0),\n",
       " (1, -1.0),\n",
       " (1, -1.0),\n",
       " (1, -1.0),\n",
       " (1, -1.0),\n",
       " (1, -1.0),\n",
       " (1, -1.0),\n",
       " (1, -1.0),\n",
       " (1, -1.0),\n",
       " (1, -1.0),\n",
       " (1, -1.0),\n",
       " (1, -1.0),\n",
       " (1, -1.0),\n",
       " (1, -1.0),\n",
       " (1, -1.0),\n",
       " (1, -1.0),\n",
       " (1, -1.0),\n",
       " (1, -1.0),\n",
       " (1, -1.0),\n",
       " (1, -1.0),\n",
       " (1, -1.0),\n",
       " (1, -1.0),\n",
       " (1, -1.0),\n",
       " (1, -1.0),\n",
       " (1, -1.0),\n",
       " (1, -1.0),\n",
       " (1, -1.0),\n",
       " (1, -1.0),\n",
       " (1, -1.0),\n",
       " (1, -1.0),\n",
       " (1, -1.0),\n",
       " (1, -1.0),\n",
       " (1, -1.0),\n",
       " (1, -1.0),\n",
       " (1, -1.0),\n",
       " (1, -1.0),\n",
       " (1, -1.0),\n",
       " (1, -1.0),\n",
       " (1, -1.0),\n",
       " (1, -1.0),\n",
       " (1, -1.0),\n",
       " (1, -1.0),\n",
       " (1, -1.0),\n",
       " (1, -1.0),\n",
       " (1, -1.0),\n",
       " (1, -1.0),\n",
       " (1, -1.0),\n",
       " (1, -1.0),\n",
       " (1, -1.0),\n",
       " (1, -1.0),\n",
       " (1, -1.0),\n",
       " (1, -1.0),\n",
       " (1, -1.0),\n",
       " (1, -1.0),\n",
       " (1, -1.0),\n",
       " (1, -1.0),\n",
       " (1, -1.0),\n",
       " (1, -1.0),\n",
       " (1, -1.0),\n",
       " (1, -1.0),\n",
       " (1, -1.0),\n",
       " (1, -1.0),\n",
       " (1, -1.0),\n",
       " (1, -1.0),\n",
       " (1, -1.0),\n",
       " (1, -1.0),\n",
       " (1, -1.0),\n",
       " (1, -1.0),\n",
       " (1, -1.0),\n",
       " (1, -1.0),\n",
       " (1, -1.0),\n",
       " (1, -1.0),\n",
       " (1, -1.0),\n",
       " (1, -1.0),\n",
       " (1, -1.0),\n",
       " (1, -1.0),\n",
       " (1, -1.0),\n",
       " (1, -1.0),\n",
       " (1, -1.0)]"
      ]
     },
     "execution_count": 440,
     "metadata": {},
     "output_type": "execute_result"
    }
   ],
   "source": [
    "[(g[2], g[3]) for g in game]"
   ]
  },
  {
   "cell_type": "code",
   "execution_count": 105,
   "metadata": {
    "collapsed": false
   },
   "outputs": [
    {
     "data": {
      "text/plain": [
       "array([[ 0.22903188,  0.26791978,  0.23666033,  0.266388  ]], dtype=float32)"
      ]
     },
     "execution_count": 105,
     "metadata": {},
     "output_type": "execute_result"
    }
   ],
   "source": [
    "policy._fit_step(game)\n",
    "policy.nnet.predict(game[1][0].reshape((1,3,21,21)))"
   ]
  },
  {
   "cell_type": "code",
   "execution_count": 20,
   "metadata": {
    "collapsed": false
   },
   "outputs": [
    {
     "data": {
      "image/png": "[encoded data removed]",
      "text/plain": [
       "<matplotlib.figure.Figure at 0x7fddefd50b10>"
      ]
     },
     "metadata": {},
     "output_type": "display_data"
    }
   ],
   "source": [
    "def render_env(state):\n",
    "    plt.imshow(map2input(*state).swapaxes(0,-1).swapaxes(0,1), interpolation='none');\n",
    "    plt.show()\n",
    "\n",
    "def do_action(action):\n",
    "    state, reward, end, _= map_env.step(action)\n",
    "    clear_output(True)\n",
    "    print reward\n",
    "    \n",
    "    try:\n",
    "        q = policy.q(map2input(*state))\n",
    "        t_q = table_p.q(state[0])\n",
    "        \n",
    "        print 'up',(q[3], t_q[3]),'right', (q[2], t_q[2]),'down',(q[1], t_q[1]),'left',(q[0], t_q[0])\n",
    "        \n",
    "    except:\n",
    "        pass\n",
    "    render_env(state)\n",
    "    \n",
    "    \n",
    "up = widgets.Button(description=\"Up\")\n",
    "down = widgets.Button(description=\"Down\")\n",
    "left =  widgets.Button(description=\"Left\")\n",
    "right = widgets.Button(description=\"Right\")\n",
    "\n",
    "up.on_click(lambda b: do_action(3))\n",
    "down.on_click(lambda b: do_action(1))\n",
    "left.on_click(lambda b: do_action(0))\n",
    "right.on_click(lambda b: do_action(2))\n",
    "\n",
    "\n",
    "display(up)\n",
    "display(down)\n",
    "display(left)\n",
    "display(right)\n",
    "\n",
    "state = map_env.reset()\n",
    "\n",
    "try:\n",
    "    print policy.q(map2input(*state))\n",
    "except:\n",
    "    pass\n",
    "render_env(state)"
   ]
  },
  {
   "cell_type": "code",
   "execution_count": 21,
   "metadata": {
    "collapsed": true
   },
   "outputs": [],
   "source": [
    "step_hunger = 1\n",
    "n_steps = 100\n",
    "\n",
    "wins = 0\n",
    "scores = []\n",
    "entropy = []\n"
   ]
  },
  {
   "cell_type": "code",
   "execution_count": 22,
   "metadata": {
    "collapsed": true
   },
   "outputs": [],
   "source": [
    "\n",
    "i=0\n"
   ]
  },
  {
   "cell_type": "code",
   "execution_count": 23,
   "metadata": {
    "collapsed": true
   },
   "outputs": [],
   "source": [
    "policy.GAMMA.set_value(0.4)"
   ]
  },
  {
   "cell_type": "code",
   "execution_count": 24,
   "metadata": {
    "collapsed": true
   },
   "outputs": [],
   "source": [
    "from pandas import ewma"
   ]
  },
  {
   "cell_type": "code",
   "execution_count": 25,
   "metadata": {
    "collapsed": false,
    "scrolled": false
   },
   "outputs": [
    {
     "name": "stdout",
     "output_type": "stream",
     "text": [
      "18 0.664689410857 1.37086\n"
     ]
    },
    {
     "data": {
      "image/png": "[encoded data removed]",
      "text/plain": [
       "<matplotlib.figure.Figure at 0x7fddeb9f3450>"
      ]
     },
     "metadata": {},
     "output_type": "display_data"
    },
    {
     "data": {
      "image/png": "[encoded data removed]",
      "text/plain": [
       "<matplotlib.figure.Figure at 0x7fdddd868c90>"
      ]
     },
     "metadata": {},
     "output_type": "display_data"
    },
    {
     "ename": "KeyboardInterrupt",
     "evalue": "",
     "output_type": "error",
     "traceback": [
      "\u001b[1;31m---------------------------------------------------------------------------\u001b[0m",
      "\u001b[1;31mKeyboardInterrupt\u001b[0m                         Traceback (most recent call last)",
      "\u001b[1;32m<ipython-input-25-cd8dccf65624>\u001b[0m in \u001b[0;36m<module>\u001b[1;34m()\u001b[0m\n\u001b[0;32m     36\u001b[0m     \u001b[0mpolicy\u001b[0m\u001b[1;33m.\u001b[0m\u001b[0mstore\u001b[0m\u001b[1;33m(\u001b[0m\u001b[0mgame\u001b[0m\u001b[1;33m)\u001b[0m\u001b[1;33m\u001b[0m\u001b[0m\n\u001b[0;32m     37\u001b[0m \u001b[1;33m\u001b[0m\u001b[0m\n\u001b[1;32m---> 38\u001b[1;33m     \u001b[0mentropy\u001b[0m\u001b[1;33m.\u001b[0m\u001b[0mappend\u001b[0m\u001b[1;33m(\u001b[0m\u001b[0mpolicy\u001b[0m\u001b[1;33m.\u001b[0m\u001b[0mfit\u001b[0m\u001b[1;33m(\u001b[0m\u001b[1;36m10\u001b[0m\u001b[1;33m)\u001b[0m\u001b[1;33m)\u001b[0m\u001b[1;33m\u001b[0m\u001b[0m\n\u001b[0m\u001b[0;32m     39\u001b[0m \u001b[1;33m\u001b[0m\u001b[0m\n\u001b[0;32m     40\u001b[0m     \u001b[0mscores\u001b[0m\u001b[1;33m.\u001b[0m\u001b[0mappend\u001b[0m\u001b[1;33m(\u001b[0m\u001b[0mtotal_reward\u001b[0m\u001b[1;33m)\u001b[0m\u001b[1;33m\u001b[0m\u001b[0m\n",
      "\u001b[1;32m<ipython-input-18-726cb74371ef>\u001b[0m in \u001b[0;36mfit\u001b[1;34m(self, batch_size)\u001b[0m\n\u001b[0;32m     97\u001b[0m \u001b[1;33m\u001b[0m\u001b[0m\n\u001b[0;32m     98\u001b[0m         \u001b[1;32mfor\u001b[0m \u001b[0mindex\u001b[0m \u001b[1;32min\u001b[0m \u001b[0mtaken\u001b[0m\u001b[1;33m:\u001b[0m\u001b[1;33m\u001b[0m\u001b[0m\n\u001b[1;32m---> 99\u001b[1;33m             \u001b[0mlosses\u001b[0m\u001b[1;33m.\u001b[0m\u001b[0mappend\u001b[0m\u001b[1;33m(\u001b[0m\u001b[0mself\u001b[0m\u001b[1;33m.\u001b[0m\u001b[0m_fit_step\u001b[0m\u001b[1;33m(\u001b[0m\u001b[0mself\u001b[0m\u001b[1;33m.\u001b[0m\u001b[0mreplay_buffer\u001b[0m\u001b[1;33m[\u001b[0m\u001b[0mindex\u001b[0m\u001b[1;33m]\u001b[0m\u001b[1;33m)\u001b[0m\u001b[1;33m)\u001b[0m\u001b[1;33m\u001b[0m\u001b[0m\n\u001b[0m\u001b[0;32m    100\u001b[0m         \u001b[1;32mreturn\u001b[0m \u001b[0mnp\u001b[0m\u001b[1;33m.\u001b[0m\u001b[0mmean\u001b[0m\u001b[1;33m(\u001b[0m\u001b[0mlosses\u001b[0m\u001b[1;33m)\u001b[0m\u001b[1;33m\u001b[0m\u001b[0m\n\u001b[0;32m    101\u001b[0m \u001b[1;33m\u001b[0m\u001b[0m\n",
      "\u001b[1;32m<ipython-input-18-726cb74371ef>\u001b[0m in \u001b[0;36m_fit_step\u001b[1;34m(self, game)\u001b[0m\n\u001b[0;32m     88\u001b[0m         \u001b[0mactions\u001b[0m \u001b[1;33m=\u001b[0m \u001b[0mnp\u001b[0m\u001b[1;33m.\u001b[0m\u001b[0marray\u001b[0m\u001b[1;33m(\u001b[0m\u001b[1;33m[\u001b[0m\u001b[0mstep\u001b[0m\u001b[1;33m[\u001b[0m\u001b[1;36m2\u001b[0m\u001b[1;33m]\u001b[0m \u001b[1;32mfor\u001b[0m \u001b[0mstep\u001b[0m \u001b[1;32min\u001b[0m \u001b[0mgame\u001b[0m\u001b[1;33m]\u001b[0m\u001b[1;33m)\u001b[0m\u001b[1;33m\u001b[0m\u001b[0m\n\u001b[0;32m     89\u001b[0m \u001b[1;33m\u001b[0m\u001b[0m\n\u001b[1;32m---> 90\u001b[1;33m         \u001b[0mres\u001b[0m \u001b[1;33m=\u001b[0m \u001b[0mself\u001b[0m\u001b[1;33m.\u001b[0m\u001b[0mnnet\u001b[0m\u001b[1;33m.\u001b[0m\u001b[0mfit\u001b[0m\u001b[1;33m(\u001b[0m\u001b[0mrewards\u001b[0m\u001b[1;33m,\u001b[0m \u001b[0mstates\u001b[0m\u001b[1;33m,\u001b[0m \u001b[0mactions\u001b[0m\u001b[1;33m)\u001b[0m\u001b[1;33m\u001b[0m\u001b[0m\n\u001b[0m\u001b[0;32m     91\u001b[0m \u001b[1;33m\u001b[0m\u001b[0m\n\u001b[0;32m     92\u001b[0m         \u001b[1;32mreturn\u001b[0m \u001b[0mres\u001b[0m\u001b[1;33m\u001b[0m\u001b[0m\n",
      "\u001b[1;32m/usr/local/lib/python2.7/dist-packages/theano/compile/function_module.pyc\u001b[0m in \u001b[0;36m__call__\u001b[1;34m(self, *args, **kwargs)\u001b[0m\n\u001b[0;32m    901\u001b[0m         \u001b[1;32mtry\u001b[0m\u001b[1;33m:\u001b[0m\u001b[1;33m\u001b[0m\u001b[0m\n\u001b[0;32m    902\u001b[0m             \u001b[0moutputs\u001b[0m \u001b[1;33m=\u001b[0m\u001b[0;31m\\\u001b[0m\u001b[1;33m\u001b[0m\u001b[0m\n\u001b[1;32m--> 903\u001b[1;33m                 \u001b[0mself\u001b[0m\u001b[1;33m.\u001b[0m\u001b[0mfn\u001b[0m\u001b[1;33m(\u001b[0m\u001b[1;33m)\u001b[0m \u001b[1;32mif\u001b[0m \u001b[0moutput_subset\u001b[0m \u001b[1;32mis\u001b[0m \u001b[0mNone\u001b[0m \u001b[1;32melse\u001b[0m\u001b[0;31m\\\u001b[0m\u001b[1;33m\u001b[0m\u001b[0m\n\u001b[0m\u001b[0;32m    904\u001b[0m                 \u001b[0mself\u001b[0m\u001b[1;33m.\u001b[0m\u001b[0mfn\u001b[0m\u001b[1;33m(\u001b[0m\u001b[0moutput_subset\u001b[0m\u001b[1;33m=\u001b[0m\u001b[0moutput_subset\u001b[0m\u001b[1;33m)\u001b[0m\u001b[1;33m\u001b[0m\u001b[0m\n\u001b[0;32m    905\u001b[0m         \u001b[1;32mexcept\u001b[0m \u001b[0mException\u001b[0m\u001b[1;33m:\u001b[0m\u001b[1;33m\u001b[0m\u001b[0m\n",
      "\u001b[1;31mKeyboardInterrupt\u001b[0m: "
     ]
    }
   ],
   "source": [
    "N_GAMES = 40000\n",
    "\n",
    "do_visual = False\n",
    "\n",
    "def anneal_entropy_regulizer(i):\n",
    "    return .4 * ((1 - 4e-4)**i)+0.3\n",
    "\n",
    "\n",
    "for i in tnrange(i,N_GAMES):\n",
    "    policy.ENTROPY_REGULIZER.set_value(anneal_entropy_regulizer(i))\n",
    "    map_env = make_env(True)\n",
    "    s = map_env.reset()\n",
    "    total_reward = 0\n",
    "    \n",
    "    game = []\n",
    "    for step in xrange(n_steps):\n",
    "        a = policy[s]\n",
    "        _s, reward, end, _ = map_env.step(a)\n",
    "\n",
    "        #reward -= step_hunger\n",
    "        #reward += 0.5\n",
    "        #reward*= 2\n",
    "        game.append((map2input(*s), map2input(*_s), a, reward, end))\n",
    "        s = _s\n",
    "        if do_visual:\n",
    "            clear_output(True)\n",
    "            map_env.render()\n",
    "            #plt.show()\n",
    "            #q_vis(policy)\n",
    "            sleep(0.1)\n",
    "        total_reward += reward\n",
    "\n",
    "        if end:\n",
    "            wins+=1\n",
    "            break\n",
    "    policy.store(game)\n",
    "    \n",
    "    entropy.append(policy.fit(10))\n",
    "    \n",
    "    scores.append(total_reward)\n",
    "    if i % 10 == 1:\n",
    "        plt.plot(scores[-200:])\n",
    "        plt.plot(ewma(np.array(scores[-200:]),span=50))\n",
    "        clear_output(True)\n",
    "        print wins, PolicyGradientPolicy.ENTROPY_REGULIZER.get_value(), entropy[-1]\n",
    "        plt.show()\n",
    "        plt.plot(entropy[-200:])\n",
    "        plt.plot(ewma(np.array(entropy[-200:]),span=50))\n",
    "        plt.show()"
   ]
  },
  {
   "cell_type": "code",
   "execution_count": 172,
   "metadata": {
    "collapsed": false
   },
   "outputs": [
    {
     "name": "stdout",
     "output_type": "stream",
     "text": [
      "1002 0.700845465021 1.22102\n"
     ]
    },
    {
     "data": {
      "image/png": "[encoded data removed]",
      "text/plain": [
       "<matplotlib.figure.Figure at 0x7f691f178190>"
      ]
     },
     "metadata": {},
     "output_type": "display_data"
    },
    {
     "data": {
      "image/png": "[encoded data removed]",
      "text/plain": [
       "<matplotlib.figure.Figure at 0x7f690ef82610>"
      ]
     },
     "metadata": {},
     "output_type": "display_data"
    }
   ],
   "source": [
    "plt.plot(scores)\n",
    "plt.plot(ewma(np.array(scores),span=50))\n",
    "clear_output(True)\n",
    "print wins, PolicyGradientPolicy.ENTROPY_REGULIZER.get_value(), entropy[-1]\n",
    "plt.show()\n",
    "plt.plot(entropy)\n",
    "plt.plot(ewma(np.array(entropy),span=50))\n",
    "plt.show()"
   ]
  },
  {
   "cell_type": "code",
   "execution_count": 91,
   "metadata": {
    "collapsed": true
   },
   "outputs": [],
   "source": [
    "def visualize_pg( policy,env = env, n_steps = 100, step_hunger = 1):\n",
    "    s = env.reset()\n",
    "    total_reward = 0\n",
    "    for step in xrange(n_steps):\n",
    "        try:\n",
    "            print map2input(*s).shape\n",
    "            print policy.nnet.predict(map2input(*s).reshape(\n",
    "                    (1,3,maze.MazeEnv.RANDOM_HEIGHT+1,maze.MazeEnv.RANDOM_WIDTH+1)))\n",
    "            s, reward, end, _ = env.step(policy[s])\n",
    "            total_reward += reward - step_hunger\n",
    "\n",
    "            clear_output(True)\n",
    "            env.render()\n",
    "            sleep(0.25)\n",
    "\n",
    "            if end:\n",
    "                break\n",
    "        except KeyboardInterrupt:\n",
    "            break\n",
    "    return total_reward"
   ]
  },
  {
   "cell_type": "code",
   "execution_count": 177,
   "metadata": {
    "collapsed": true
   },
   "outputs": [],
   "source": [
    "DeepQPolicy.epsilon = QPolicy.epsilon = 0.3\n"
   ]
  },
  {
   "cell_type": "code",
   "execution_count": 178,
   "metadata": {
    "collapsed": false
   },
   "outputs": [],
   "source": [
    "map_env = make_env(True)"
   ]
  },
  {
   "cell_type": "code",
   "execution_count": 98,
   "metadata": {
    "collapsed": false,
    "scrolled": true
   },
   "outputs": [
    {
     "name": "stdout",
     "output_type": "stream",
     "text": [
      "111111111111111111111\n",
      "100000000000000000001\n",
      "101110111111111111101\n",
      "100000001000000000001\n",
      "1011111110111111111\u001b[41m2\u001b[0m1\n",
      "101000000000000000101\n",
      "101111111011111011101\n",
      "100000001012000010001\n",
      "101110111011101111101\n",
      "100000100000100000101\n",
      "101111111011101011101\n",
      "101000000010000013001\n",
      "101111101011111110101\n",
      "100000101200001000101\n",
      "101110111111101111101\n",
      "101000000010000000001\n",
      "101110111010111011101\n",
      "100010000000000000001\n",
      "111110111011111111101\n",
      "100000000000020000001\n",
      "111111111111111111111\n",
      "  (Left)\n",
      "(3, 21, 21)\n"
     ]
    },
    {
     "data": {
      "text/plain": [
       "-5"
      ]
     },
     "execution_count": 98,
     "metadata": {},
     "output_type": "execute_result"
    }
   ],
   "source": [
    "\n",
    "visualize_pg(policy, map_env,step_hunger=0)"
   ]
  },
  {
   "cell_type": "code",
   "execution_count": null,
   "metadata": {
    "collapsed": true
   },
   "outputs": [],
   "source": []
  }
 ],
 "metadata": {
  "kernelspec": {
   "display_name": "Python 2",
   "language": "python",
   "name": "python2"
  },
  "language_info": {
   "codemirror_mode": {
    "name": "ipython",
    "version": 2
   },
   "file_extension": ".py",
   "mimetype": "text/x-python",
   "name": "python",
   "nbconvert_exporter": "python",
   "pygments_lexer": "ipython2",
   "version": "2.7.12"
  }
 },
 "nbformat": 4,
 "nbformat_minor": 0
}
